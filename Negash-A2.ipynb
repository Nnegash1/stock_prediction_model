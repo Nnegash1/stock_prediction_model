{
 "cells": [
  {
   "cell_type": "markdown",
   "metadata": {
    "id": "vu2W52BzHmXr"
   },
   "source": [
    "# CMSC478 Machine Learning - Fall 2021\n",
    "\n",
    "# Instructor: Fereydoon Vafaei\n",
    "\n",
    "### <font color=\"blue\">Assignment-2: Regression - Stock Market Prediction</font>"
   ]
  },
  {
   "cell_type": "markdown",
   "metadata": {
    "id": "8OUpqQPmHmXt"
   },
   "source": [
    "Name: Nahom Negash ID: RA82493"
   ]
  },
  {
   "cell_type": "markdown",
   "metadata": {
    "id": "hkIN8hZAHmXu"
   },
   "source": [
    "## Overview and Learning Objectives"
   ]
  },
  {
   "cell_type": "markdown",
   "metadata": {
    "id": "RZTw_FuIHmXu"
   },
   "source": [
    "In your second assignment, you are going to implement and train regression models. As mentioned in the lectures, regression models can predict a numeric value.\n",
    "\n",
    "The ML task in this assignment is regression, predicting the `Close` price of Microsoft stock index [**MSFT**](https://www.google.com/finance/quote/MSFT:NASDAQ).\n",
    "\n",
    "<b>Course Policy Reminder</b>\n",
    "Debugging the codes and error resolution are ALWAYS the students' responsbility regardless of the source or the cause of the error. This policy will be enforced in email communications and the office hours. Keep in mind that all assignments are individual graded tasks. Any collaboration with other students is strictly prohibited and is considered as cheating. Students should NOT share any answer, solution, or code with other students. Violations of these policies would be penalized according to UMBC academic integrity policy.\n",
    "\n",
    "<b>Very Important Note:</b>\n",
    "**You must run ALL cells** and get the correct outputs for all cells and give complete answers to all questions. **Cells/codes with no output get zero!** If you don't run some cells in a part, the whole part gets zero even if you write some codes in them."
   ]
  },
  {
   "cell_type": "markdown",
   "metadata": {
    "id": "aubfOjjaHmXu"
   },
   "source": [
    "Pedagogically, this assignment will help you:\n",
    "- better understand regression. \n",
    "- practice regression performance metrics.\n",
    "- practice with matplotlib and learn how to generate different plots.\n",
    "- gain experience with financial technical analysis and stock market prediction."
   ]
  },
  {
   "cell_type": "markdown",
   "metadata": {
    "id": "BqJbsKpiHmXu"
   },
   "source": [
    "Wherever needed, you should replace `...` elipsis with your code.\n",
    "\n",
    "`...` may indicate one or more lines of missing codes. Some outputs are provided to you to use as reference and to verify that your output is correct. Other outputs are NOT provided intentionally."
   ]
  },
  {
   "cell_type": "markdown",
   "metadata": {
    "id": "d5Bo8CgqHmXu"
   },
   "source": [
    "## Import Cell"
   ]
  },
  {
   "cell_type": "markdown",
   "metadata": {
    "id": "W4gBk4sBHmXu"
   },
   "source": [
    "The first thing to do is importing all necessary python and sklearn modules. **You definitely need to add to the following imports as you work on the assignment.** When you import a new module, add it here in the same cell. All imports should be in this cell."
   ]
  },
  {
   "cell_type": "code",
   "execution_count": 1,
   "metadata": {
    "id": "H-YreZpZHmXv"
   },
   "outputs": [],
   "source": [
    "# Import all necessary modules\n",
    "import numpy as np\n",
    "import matplotlib.pyplot as plt\n",
    "import seaborn as seaborn\n",
    "from sklearn.model_selection import train_test_split, RandomizedSearchCV\n",
    "from sklearn.linear_model import LinearRegression\n",
    "from sklearn.metrics import mean_squared_error, mean_absolute_error, r2_score\n",
    "from sklearn.svm import SVR\n",
    "from sklearn.pipeline import make_pipeline\n",
    "from sklearn.preprocessing import StandardScaler\n",
    "from xgboost import XGBRegressor\n",
    "import xgboost\n",
    "from scipy.stats import uniform"
   ]
  },
  {
   "cell_type": "markdown",
   "metadata": {
    "id": "vU9xNxbuHmXv"
   },
   "source": [
    "## Installing pandas-datareader"
   ]
  },
  {
   "cell_type": "markdown",
   "metadata": {
    "id": "QylHNteWHmXw"
   },
   "source": [
    "You should install [pandas-datareader](https://pandas-datareader.readthedocs.io/en/latest/). In Linux, it's as easy as running the following pip command in your notebook. In other OS platforms, you may need to install it via Anaconda command prompt. **You are responsible for proper installation and resolving any issues that may arise during the installation process**."
   ]
  },
  {
   "cell_type": "code",
   "execution_count": 2,
   "metadata": {
    "id": "fBPvNmCAHmXw"
   },
   "outputs": [],
   "source": [
    "#!pip install pandas-datareader"
   ]
  },
  {
   "cell_type": "code",
   "execution_count": 3,
   "metadata": {
    "id": "dX66M9s9HmXw"
   },
   "outputs": [],
   "source": [
    "import pandas_datareader.data as web"
   ]
  },
  {
   "cell_type": "markdown",
   "metadata": {
    "id": "DXB5TLKcHmXw"
   },
   "source": [
    "## Part I - Preprocessing"
   ]
  },
  {
   "cell_type": "markdown",
   "metadata": {
    "id": "jv8cHvBPHmXw"
   },
   "source": [
    "Now you can read the data live from the [web](https://pandas-datareader.readthedocs.io/en/latest/remote_data.html#stooq-index-data)."
   ]
  },
  {
   "cell_type": "code",
   "execution_count": 4,
   "metadata": {
    "id": "yL-VZwWvHmXw",
    "outputId": "2bdd17f4-6874-4780-899c-210d2a9df45f"
   },
   "outputs": [
    {
     "data": {
      "text/html": [
       "<div>\n",
       "<style scoped>\n",
       "    .dataframe tbody tr th:only-of-type {\n",
       "        vertical-align: middle;\n",
       "    }\n",
       "\n",
       "    .dataframe tbody tr th {\n",
       "        vertical-align: top;\n",
       "    }\n",
       "\n",
       "    .dataframe thead th {\n",
       "        text-align: right;\n",
       "    }\n",
       "</style>\n",
       "<table border=\"1\" class=\"dataframe\">\n",
       "  <thead>\n",
       "    <tr style=\"text-align: right;\">\n",
       "      <th></th>\n",
       "      <th>Open</th>\n",
       "      <th>High</th>\n",
       "      <th>Low</th>\n",
       "      <th>Close</th>\n",
       "      <th>Volume</th>\n",
       "    </tr>\n",
       "    <tr>\n",
       "      <th>Date</th>\n",
       "      <th></th>\n",
       "      <th></th>\n",
       "      <th></th>\n",
       "      <th></th>\n",
       "      <th></th>\n",
       "    </tr>\n",
       "  </thead>\n",
       "  <tbody>\n",
       "    <tr>\n",
       "      <th>2021-10-05</th>\n",
       "      <td>284.0464</td>\n",
       "      <td>290.398</td>\n",
       "      <td>284.0464</td>\n",
       "      <td>288.76</td>\n",
       "      <td>24993024</td>\n",
       "    </tr>\n",
       "    <tr>\n",
       "      <th>2021-10-04</th>\n",
       "      <td>287.4000</td>\n",
       "      <td>287.750</td>\n",
       "      <td>280.2500</td>\n",
       "      <td>283.11</td>\n",
       "      <td>31350747</td>\n",
       "    </tr>\n",
       "    <tr>\n",
       "      <th>2021-10-01</th>\n",
       "      <td>282.1217</td>\n",
       "      <td>289.980</td>\n",
       "      <td>281.2900</td>\n",
       "      <td>289.10</td>\n",
       "      <td>30086280</td>\n",
       "    </tr>\n",
       "    <tr>\n",
       "      <th>2021-09-30</th>\n",
       "      <td>285.7100</td>\n",
       "      <td>287.830</td>\n",
       "      <td>281.6200</td>\n",
       "      <td>281.92</td>\n",
       "      <td>32343635</td>\n",
       "    </tr>\n",
       "    <tr>\n",
       "      <th>2021-09-29</th>\n",
       "      <td>285.1000</td>\n",
       "      <td>286.770</td>\n",
       "      <td>283.0100</td>\n",
       "      <td>284.00</td>\n",
       "      <td>26353696</td>\n",
       "    </tr>\n",
       "    <tr>\n",
       "      <th>2021-09-28</th>\n",
       "      <td>289.7950</td>\n",
       "      <td>290.780</td>\n",
       "      <td>282.7500</td>\n",
       "      <td>283.52</td>\n",
       "      <td>43186237</td>\n",
       "    </tr>\n",
       "    <tr>\n",
       "      <th>2021-09-27</th>\n",
       "      <td>296.1400</td>\n",
       "      <td>296.470</td>\n",
       "      <td>292.9449</td>\n",
       "      <td>294.17</td>\n",
       "      <td>23571742</td>\n",
       "    </tr>\n",
       "    <tr>\n",
       "      <th>2021-09-24</th>\n",
       "      <td>298.2300</td>\n",
       "      <td>299.800</td>\n",
       "      <td>296.9300</td>\n",
       "      <td>299.35</td>\n",
       "      <td>14998978</td>\n",
       "    </tr>\n",
       "    <tr>\n",
       "      <th>2021-09-23</th>\n",
       "      <td>298.8450</td>\n",
       "      <td>300.900</td>\n",
       "      <td>297.5339</td>\n",
       "      <td>299.56</td>\n",
       "      <td>18604601</td>\n",
       "    </tr>\n",
       "    <tr>\n",
       "      <th>2021-09-22</th>\n",
       "      <td>296.7250</td>\n",
       "      <td>300.220</td>\n",
       "      <td>294.5100</td>\n",
       "      <td>298.58</td>\n",
       "      <td>26626342</td>\n",
       "    </tr>\n",
       "  </tbody>\n",
       "</table>\n",
       "</div>"
      ],
      "text/plain": [
       "                Open     High       Low   Close    Volume\n",
       "Date                                                     \n",
       "2021-10-05  284.0464  290.398  284.0464  288.76  24993024\n",
       "2021-10-04  287.4000  287.750  280.2500  283.11  31350747\n",
       "2021-10-01  282.1217  289.980  281.2900  289.10  30086280\n",
       "2021-09-30  285.7100  287.830  281.6200  281.92  32343635\n",
       "2021-09-29  285.1000  286.770  283.0100  284.00  26353696\n",
       "2021-09-28  289.7950  290.780  282.7500  283.52  43186237\n",
       "2021-09-27  296.1400  296.470  292.9449  294.17  23571742\n",
       "2021-09-24  298.2300  299.800  296.9300  299.35  14998978\n",
       "2021-09-23  298.8450  300.900  297.5339  299.56  18604601\n",
       "2021-09-22  296.7250  300.220  294.5100  298.58  26626342"
      ]
     },
     "execution_count": 4,
     "metadata": {},
     "output_type": "execute_result"
    }
   ],
   "source": [
    "df = web.DataReader('MSFT', 'stooq', start='2012-01-01', end='2021-10-05')\n",
    "df.head(10)"
   ]
  },
  {
   "cell_type": "markdown",
   "metadata": {
    "id": "i7-rXkQiHmXx"
   },
   "source": [
    "> To make all submissions consistent, do NOT change the dates, source and stock index."
   ]
  },
  {
   "cell_type": "markdown",
   "metadata": {
    "id": "wOBlGxXvHmXy"
   },
   "source": [
    "> The data is already very clean; however, you should always try to get some insights initially."
   ]
  },
  {
   "cell_type": "code",
   "execution_count": 5,
   "metadata": {
    "id": "j7rcaAkvHmXy",
    "outputId": "4a189bd5-e66c-42b3-9932-ed847d74d9d6"
   },
   "outputs": [
    {
     "data": {
      "text/html": [
       "<div>\n",
       "<style scoped>\n",
       "    .dataframe tbody tr th:only-of-type {\n",
       "        vertical-align: middle;\n",
       "    }\n",
       "\n",
       "    .dataframe tbody tr th {\n",
       "        vertical-align: top;\n",
       "    }\n",
       "\n",
       "    .dataframe thead th {\n",
       "        text-align: right;\n",
       "    }\n",
       "</style>\n",
       "<table border=\"1\" class=\"dataframe\">\n",
       "  <thead>\n",
       "    <tr style=\"text-align: right;\">\n",
       "      <th></th>\n",
       "      <th>Open</th>\n",
       "      <th>High</th>\n",
       "      <th>Low</th>\n",
       "      <th>Close</th>\n",
       "      <th>Volume</th>\n",
       "    </tr>\n",
       "  </thead>\n",
       "  <tbody>\n",
       "    <tr>\n",
       "      <th>count</th>\n",
       "      <td>2456.000000</td>\n",
       "      <td>2456.000000</td>\n",
       "      <td>2456.000000</td>\n",
       "      <td>2456.000000</td>\n",
       "      <td>2.456000e+03</td>\n",
       "    </tr>\n",
       "    <tr>\n",
       "      <th>mean</th>\n",
       "      <td>88.323902</td>\n",
       "      <td>89.141641</td>\n",
       "      <td>87.485633</td>\n",
       "      <td>88.365283</td>\n",
       "      <td>3.733027e+07</td>\n",
       "    </tr>\n",
       "    <tr>\n",
       "      <th>std</th>\n",
       "      <td>71.657952</td>\n",
       "      <td>72.349475</td>\n",
       "      <td>70.964094</td>\n",
       "      <td>71.702483</td>\n",
       "      <td>2.133297e+07</td>\n",
       "    </tr>\n",
       "    <tr>\n",
       "      <th>min</th>\n",
       "      <td>21.472000</td>\n",
       "      <td>21.860000</td>\n",
       "      <td>21.402000</td>\n",
       "      <td>21.699000</td>\n",
       "      <td>7.797724e+06</td>\n",
       "    </tr>\n",
       "    <tr>\n",
       "      <th>25%</th>\n",
       "      <td>35.847750</td>\n",
       "      <td>36.222500</td>\n",
       "      <td>35.613000</td>\n",
       "      <td>35.932000</td>\n",
       "      <td>2.365191e+07</td>\n",
       "    </tr>\n",
       "    <tr>\n",
       "      <th>50%</th>\n",
       "      <td>56.005500</td>\n",
       "      <td>56.350000</td>\n",
       "      <td>55.623000</td>\n",
       "      <td>56.022000</td>\n",
       "      <td>3.193310e+07</td>\n",
       "    </tr>\n",
       "    <tr>\n",
       "      <th>75%</th>\n",
       "      <td>121.025000</td>\n",
       "      <td>122.415000</td>\n",
       "      <td>120.430000</td>\n",
       "      <td>121.727500</td>\n",
       "      <td>4.480348e+07</td>\n",
       "    </tr>\n",
       "    <tr>\n",
       "      <th>max</th>\n",
       "      <td>305.020000</td>\n",
       "      <td>305.840000</td>\n",
       "      <td>302.003500</td>\n",
       "      <td>305.220000</td>\n",
       "      <td>2.933959e+08</td>\n",
       "    </tr>\n",
       "  </tbody>\n",
       "</table>\n",
       "</div>"
      ],
      "text/plain": [
       "              Open         High          Low        Close        Volume\n",
       "count  2456.000000  2456.000000  2456.000000  2456.000000  2.456000e+03\n",
       "mean     88.323902    89.141641    87.485633    88.365283  3.733027e+07\n",
       "std      71.657952    72.349475    70.964094    71.702483  2.133297e+07\n",
       "min      21.472000    21.860000    21.402000    21.699000  7.797724e+06\n",
       "25%      35.847750    36.222500    35.613000    35.932000  2.365191e+07\n",
       "50%      56.005500    56.350000    55.623000    56.022000  3.193310e+07\n",
       "75%     121.025000   122.415000   120.430000   121.727500  4.480348e+07\n",
       "max     305.020000   305.840000   302.003500   305.220000  2.933959e+08"
      ]
     },
     "execution_count": 5,
     "metadata": {},
     "output_type": "execute_result"
    }
   ],
   "source": [
    "df.reset_index(inplace=True)\n",
    "df.describe()"
   ]
  },
  {
   "cell_type": "markdown",
   "metadata": {
    "id": "Cn_IF1oDHmXy"
   },
   "source": [
    "> One of the techniques to get more insights about the data before training the regression model is correlation analysis. Correlation analysis tells you which columns are correlated. Pandas dataframe has [`.corr()`](https://pandas.pydata.org/pandas-docs/stable/reference/api/pandas.DataFrame.corr.html) method to caclulate the correlations."
   ]
  },
  {
   "cell_type": "code",
   "execution_count": 6,
   "metadata": {
    "id": "kUfdk-K1HmXy"
   },
   "outputs": [
    {
     "data": {
      "text/html": [
       "<div>\n",
       "<style scoped>\n",
       "    .dataframe tbody tr th:only-of-type {\n",
       "        vertical-align: middle;\n",
       "    }\n",
       "\n",
       "    .dataframe tbody tr th {\n",
       "        vertical-align: top;\n",
       "    }\n",
       "\n",
       "    .dataframe thead th {\n",
       "        text-align: right;\n",
       "    }\n",
       "</style>\n",
       "<table border=\"1\" class=\"dataframe\">\n",
       "  <thead>\n",
       "    <tr style=\"text-align: right;\">\n",
       "      <th></th>\n",
       "      <th>Open</th>\n",
       "      <th>High</th>\n",
       "      <th>Low</th>\n",
       "      <th>Close</th>\n",
       "      <th>Volume</th>\n",
       "    </tr>\n",
       "  </thead>\n",
       "  <tbody>\n",
       "    <tr>\n",
       "      <th>Open</th>\n",
       "      <td>1.000000</td>\n",
       "      <td>0.999899</td>\n",
       "      <td>0.999891</td>\n",
       "      <td>0.999795</td>\n",
       "      <td>-0.297753</td>\n",
       "    </tr>\n",
       "    <tr>\n",
       "      <th>High</th>\n",
       "      <td>0.999899</td>\n",
       "      <td>1.000000</td>\n",
       "      <td>0.999831</td>\n",
       "      <td>0.999883</td>\n",
       "      <td>-0.294524</td>\n",
       "    </tr>\n",
       "    <tr>\n",
       "      <th>Low</th>\n",
       "      <td>0.999891</td>\n",
       "      <td>0.999831</td>\n",
       "      <td>1.000000</td>\n",
       "      <td>0.999895</td>\n",
       "      <td>-0.301417</td>\n",
       "    </tr>\n",
       "    <tr>\n",
       "      <th>Close</th>\n",
       "      <td>0.999795</td>\n",
       "      <td>0.999883</td>\n",
       "      <td>0.999895</td>\n",
       "      <td>1.000000</td>\n",
       "      <td>-0.298456</td>\n",
       "    </tr>\n",
       "    <tr>\n",
       "      <th>Volume</th>\n",
       "      <td>-0.297753</td>\n",
       "      <td>-0.294524</td>\n",
       "      <td>-0.301417</td>\n",
       "      <td>-0.298456</td>\n",
       "      <td>1.000000</td>\n",
       "    </tr>\n",
       "  </tbody>\n",
       "</table>\n",
       "</div>"
      ],
      "text/plain": [
       "            Open      High       Low     Close    Volume\n",
       "Open    1.000000  0.999899  0.999891  0.999795 -0.297753\n",
       "High    0.999899  1.000000  0.999831  0.999883 -0.294524\n",
       "Low     0.999891  0.999831  1.000000  0.999895 -0.301417\n",
       "Close   0.999795  0.999883  0.999895  1.000000 -0.298456\n",
       "Volume -0.297753 -0.294524 -0.301417 -0.298456  1.000000"
      ]
     },
     "execution_count": 6,
     "metadata": {},
     "output_type": "execute_result"
    }
   ],
   "source": [
    "corr = df.corr(method='pearson')\n",
    "corr"
   ]
  },
  {
   "cell_type": "markdown",
   "metadata": {
    "id": "GThe63MyHmXy"
   },
   "source": [
    "> You can also visualize the correlations using [seaborn](https://seaborn.pydata.org/installing.html) heatmaps. You should install it if you don't have it, and then you should import it."
   ]
  },
  {
   "cell_type": "code",
   "execution_count": 7,
   "metadata": {
    "id": "wmYWWuGOHmXz"
   },
   "outputs": [
    {
     "data": {
      "text/plain": [
       "<AxesSubplot:>"
      ]
     },
     "execution_count": 7,
     "metadata": {},
     "output_type": "execute_result"
    },
    {
     "data": {
      "image/png": "[encoded data removed]",
      "text/plain": [
       "<Figure size 432x288 with 2 Axes>"
      ]
     },
     "metadata": {
      "needs_background": "light"
     },
     "output_type": "display_data"
    }
   ],
   "source": [
    "seaborn.heatmap(corr, xticklabels=corr.columns, yticklabels=corr.columns, cmap='RdBu_r', annot=True, linewidth=0.5)"
   ]
  },
  {
   "cell_type": "markdown",
   "metadata": {
    "id": "gzVmVxqcHmXz"
   },
   "source": [
    "> Next, drop `Volume` and `Adj Close`."
   ]
  },
  {
   "cell_type": "code",
   "execution_count": 8,
   "metadata": {
    "id": "LQb9PGBNHmXz",
    "outputId": "175e1064-0904-4790-d930-3558aac8c6ac"
   },
   "outputs": [],
   "source": [
    "# Drop Volume and Adj Close\n",
    "df = df.drop('Volume', 1)"
   ]
  },
  {
   "cell_type": "markdown",
   "metadata": {
    "id": "lufPCxd1HmXz"
   },
   "source": [
    "> Next, you should create the exact same plot as given below. EVERYTHING should look exactly the same as this plot. The specifications are as follows:\n",
    "> - `figsize` should be (16,8)\n",
    "> - `fontsize` for title should be 18 and for the axis labels should be 16.\n",
    "> - You should use a [`seaborn`](https://matplotlib.org/stable/gallery/style_sheets/style_sheets_reference.html) style with the grid displayed in the background and everything else should look the same. \n",
    "> - Your plot must have the same title and axis labels.\n",
    "> - You can see [matplotlib documentation](https://matplotlib.org/stable/api/_as_gen/matplotlib.pyplot.plot.html) to learn how to change specifications."
   ]
  },
  {
   "cell_type": "code",
   "execution_count": 9,
   "metadata": {},
   "outputs": [
    {
     "data": {
      "text/html": [
       "<div>\n",
       "<style scoped>\n",
       "    .dataframe tbody tr th:only-of-type {\n",
       "        vertical-align: middle;\n",
       "    }\n",
       "\n",
       "    .dataframe tbody tr th {\n",
       "        vertical-align: top;\n",
       "    }\n",
       "\n",
       "    .dataframe thead th {\n",
       "        text-align: right;\n",
       "    }\n",
       "</style>\n",
       "<table border=\"1\" class=\"dataframe\">\n",
       "  <thead>\n",
       "    <tr style=\"text-align: right;\">\n",
       "      <th></th>\n",
       "      <th>Date</th>\n",
       "      <th>Open</th>\n",
       "      <th>High</th>\n",
       "      <th>Low</th>\n",
       "      <th>Close</th>\n",
       "    </tr>\n",
       "  </thead>\n",
       "  <tbody>\n",
       "    <tr>\n",
       "      <th>0</th>\n",
       "      <td>2021-10-05</td>\n",
       "      <td>284.0464</td>\n",
       "      <td>290.398</td>\n",
       "      <td>284.0464</td>\n",
       "      <td>288.760</td>\n",
       "    </tr>\n",
       "    <tr>\n",
       "      <th>1</th>\n",
       "      <td>2021-10-04</td>\n",
       "      <td>287.4000</td>\n",
       "      <td>287.750</td>\n",
       "      <td>280.2500</td>\n",
       "      <td>283.110</td>\n",
       "    </tr>\n",
       "    <tr>\n",
       "      <th>2</th>\n",
       "      <td>2021-10-01</td>\n",
       "      <td>282.1217</td>\n",
       "      <td>289.980</td>\n",
       "      <td>281.2900</td>\n",
       "      <td>289.100</td>\n",
       "    </tr>\n",
       "    <tr>\n",
       "      <th>3</th>\n",
       "      <td>2021-09-30</td>\n",
       "      <td>285.7100</td>\n",
       "      <td>287.830</td>\n",
       "      <td>281.6200</td>\n",
       "      <td>281.920</td>\n",
       "    </tr>\n",
       "    <tr>\n",
       "      <th>4</th>\n",
       "      <td>2021-09-29</td>\n",
       "      <td>285.1000</td>\n",
       "      <td>286.770</td>\n",
       "      <td>283.0100</td>\n",
       "      <td>284.000</td>\n",
       "    </tr>\n",
       "    <tr>\n",
       "      <th>...</th>\n",
       "      <td>...</td>\n",
       "      <td>...</td>\n",
       "      <td>...</td>\n",
       "      <td>...</td>\n",
       "      <td>...</td>\n",
       "    </tr>\n",
       "    <tr>\n",
       "      <th>2451</th>\n",
       "      <td>2012-01-09</td>\n",
       "      <td>22.7440</td>\n",
       "      <td>22.786</td>\n",
       "      <td>22.4790</td>\n",
       "      <td>22.496</td>\n",
       "    </tr>\n",
       "    <tr>\n",
       "      <th>2452</th>\n",
       "      <td>2012-01-06</td>\n",
       "      <td>22.3530</td>\n",
       "      <td>22.858</td>\n",
       "      <td>22.3200</td>\n",
       "      <td>22.786</td>\n",
       "    </tr>\n",
       "    <tr>\n",
       "      <th>2453</th>\n",
       "      <td>2012-01-05</td>\n",
       "      <td>22.2090</td>\n",
       "      <td>22.489</td>\n",
       "      <td>22.1300</td>\n",
       "      <td>22.446</td>\n",
       "    </tr>\n",
       "    <tr>\n",
       "      <th>2454</th>\n",
       "      <td>2012-01-04</td>\n",
       "      <td>21.7500</td>\n",
       "      <td>22.276</td>\n",
       "      <td>21.7160</td>\n",
       "      <td>22.216</td>\n",
       "    </tr>\n",
       "    <tr>\n",
       "      <th>2455</th>\n",
       "      <td>2012-01-03</td>\n",
       "      <td>21.4720</td>\n",
       "      <td>21.860</td>\n",
       "      <td>21.4020</td>\n",
       "      <td>21.699</td>\n",
       "    </tr>\n",
       "  </tbody>\n",
       "</table>\n",
       "<p>2456 rows × 5 columns</p>\n",
       "</div>"
      ],
      "text/plain": [
       "           Date      Open     High       Low    Close\n",
       "0    2021-10-05  284.0464  290.398  284.0464  288.760\n",
       "1    2021-10-04  287.4000  287.750  280.2500  283.110\n",
       "2    2021-10-01  282.1217  289.980  281.2900  289.100\n",
       "3    2021-09-30  285.7100  287.830  281.6200  281.920\n",
       "4    2021-09-29  285.1000  286.770  283.0100  284.000\n",
       "...         ...       ...      ...       ...      ...\n",
       "2451 2012-01-09   22.7440   22.786   22.4790   22.496\n",
       "2452 2012-01-06   22.3530   22.858   22.3200   22.786\n",
       "2453 2012-01-05   22.2090   22.489   22.1300   22.446\n",
       "2454 2012-01-04   21.7500   22.276   21.7160   22.216\n",
       "2455 2012-01-03   21.4720   21.860   21.4020   21.699\n",
       "\n",
       "[2456 rows x 5 columns]"
      ]
     },
     "execution_count": 9,
     "metadata": {},
     "output_type": "execute_result"
    }
   ],
   "source": [
    "df"
   ]
  },
  {
   "cell_type": "code",
   "execution_count": 10,
   "metadata": {
    "id": "wyQtDM1hHmXz",
    "outputId": "95241a41-521d-493a-9ac1-ad4fbff897c3"
   },
   "outputs": [
    {
     "data": {
      "image/png": "[encoded data removed]",
      "text/plain": [
       "<Figure size 1152x576 with 1 Axes>"
      ]
     },
     "metadata": {
      "needs_background": "light"
     },
     "output_type": "display_data"
    }
   ],
   "source": [
    "'''[10 points] Incomplete/incorrect plots get zero\n",
    "Generate the following plot. It should be EXACTLY the same!\n",
    "'''\n",
    "fig, ax = plt.subplots(figsize=(16,8))\n",
    "seaborn.lineplot(x = df['Date'], y = df['Close'], ax=ax, data=df, color='green')\n",
    "seaborn.set_style('darkgrid')\n",
    "ax.set_xlabel('Date')\n",
    "ax.set_ylabel('Y')\n",
    "plt.show()"
   ]
  },
  {
   "cell_type": "markdown",
   "metadata": {
    "id": "bJrAQGL-HmXz"
   },
   "source": [
    "> Next, you should decompose `Date` to `Year`, `Month`, and `Day`."
   ]
  },
  {
   "cell_type": "code",
   "execution_count": 11,
   "metadata": {
    "id": "ZRgHKMluHmXz"
   },
   "outputs": [],
   "source": [
    "df['Year'] = df['Date'].dt.year\n",
    "df['Month'] = df['Date'].dt.month\n",
    "df['Day'] = df['Date'].dt.day"
   ]
  },
  {
   "cell_type": "markdown",
   "metadata": {
    "id": "lZvhFx68HmX0"
   },
   "source": [
    "> Now create a new dataframe `msft` by choosing the following columns from `df` in the same order as below:"
   ]
  },
  {
   "cell_type": "code",
   "execution_count": 12,
   "metadata": {
    "id": "GRnxWGdAHmX0",
    "outputId": "18794c6c-c9e0-443d-ff70-f7289b2dde79"
   },
   "outputs": [
    {
     "data": {
      "text/html": [
       "<div>\n",
       "<style scoped>\n",
       "    .dataframe tbody tr th:only-of-type {\n",
       "        vertical-align: middle;\n",
       "    }\n",
       "\n",
       "    .dataframe tbody tr th {\n",
       "        vertical-align: top;\n",
       "    }\n",
       "\n",
       "    .dataframe thead th {\n",
       "        text-align: right;\n",
       "    }\n",
       "</style>\n",
       "<table border=\"1\" class=\"dataframe\">\n",
       "  <thead>\n",
       "    <tr style=\"text-align: right;\">\n",
       "      <th></th>\n",
       "      <th>Day</th>\n",
       "      <th>Month</th>\n",
       "      <th>Year</th>\n",
       "      <th>High</th>\n",
       "      <th>Open</th>\n",
       "      <th>Low</th>\n",
       "      <th>Close</th>\n",
       "    </tr>\n",
       "  </thead>\n",
       "  <tbody>\n",
       "    <tr>\n",
       "      <th>2446</th>\n",
       "      <td>17</td>\n",
       "      <td>1</td>\n",
       "      <td>2012</td>\n",
       "      <td>23.230</td>\n",
       "      <td>23.027</td>\n",
       "      <td>22.846</td>\n",
       "      <td>22.914</td>\n",
       "    </tr>\n",
       "    <tr>\n",
       "      <th>2447</th>\n",
       "      <td>13</td>\n",
       "      <td>1</td>\n",
       "      <td>2012</td>\n",
       "      <td>22.911</td>\n",
       "      <td>22.651</td>\n",
       "      <td>22.537</td>\n",
       "      <td>22.911</td>\n",
       "    </tr>\n",
       "    <tr>\n",
       "      <th>2448</th>\n",
       "      <td>12</td>\n",
       "      <td>1</td>\n",
       "      <td>2012</td>\n",
       "      <td>22.723</td>\n",
       "      <td>22.576</td>\n",
       "      <td>22.422</td>\n",
       "      <td>22.705</td>\n",
       "    </tr>\n",
       "    <tr>\n",
       "      <th>2449</th>\n",
       "      <td>11</td>\n",
       "      <td>1</td>\n",
       "      <td>2012</td>\n",
       "      <td>22.690</td>\n",
       "      <td>22.243</td>\n",
       "      <td>22.194</td>\n",
       "      <td>22.480</td>\n",
       "    </tr>\n",
       "    <tr>\n",
       "      <th>2450</th>\n",
       "      <td>10</td>\n",
       "      <td>1</td>\n",
       "      <td>2012</td>\n",
       "      <td>22.824</td>\n",
       "      <td>22.626</td>\n",
       "      <td>22.504</td>\n",
       "      <td>22.574</td>\n",
       "    </tr>\n",
       "    <tr>\n",
       "      <th>2451</th>\n",
       "      <td>9</td>\n",
       "      <td>1</td>\n",
       "      <td>2012</td>\n",
       "      <td>22.786</td>\n",
       "      <td>22.744</td>\n",
       "      <td>22.479</td>\n",
       "      <td>22.496</td>\n",
       "    </tr>\n",
       "    <tr>\n",
       "      <th>2452</th>\n",
       "      <td>6</td>\n",
       "      <td>1</td>\n",
       "      <td>2012</td>\n",
       "      <td>22.858</td>\n",
       "      <td>22.353</td>\n",
       "      <td>22.320</td>\n",
       "      <td>22.786</td>\n",
       "    </tr>\n",
       "    <tr>\n",
       "      <th>2453</th>\n",
       "      <td>5</td>\n",
       "      <td>1</td>\n",
       "      <td>2012</td>\n",
       "      <td>22.489</td>\n",
       "      <td>22.209</td>\n",
       "      <td>22.130</td>\n",
       "      <td>22.446</td>\n",
       "    </tr>\n",
       "    <tr>\n",
       "      <th>2454</th>\n",
       "      <td>4</td>\n",
       "      <td>1</td>\n",
       "      <td>2012</td>\n",
       "      <td>22.276</td>\n",
       "      <td>21.750</td>\n",
       "      <td>21.716</td>\n",
       "      <td>22.216</td>\n",
       "    </tr>\n",
       "    <tr>\n",
       "      <th>2455</th>\n",
       "      <td>3</td>\n",
       "      <td>1</td>\n",
       "      <td>2012</td>\n",
       "      <td>21.860</td>\n",
       "      <td>21.472</td>\n",
       "      <td>21.402</td>\n",
       "      <td>21.699</td>\n",
       "    </tr>\n",
       "  </tbody>\n",
       "</table>\n",
       "</div>"
      ],
      "text/plain": [
       "      Day  Month  Year    High    Open     Low   Close\n",
       "2446   17      1  2012  23.230  23.027  22.846  22.914\n",
       "2447   13      1  2012  22.911  22.651  22.537  22.911\n",
       "2448   12      1  2012  22.723  22.576  22.422  22.705\n",
       "2449   11      1  2012  22.690  22.243  22.194  22.480\n",
       "2450   10      1  2012  22.824  22.626  22.504  22.574\n",
       "2451    9      1  2012  22.786  22.744  22.479  22.496\n",
       "2452    6      1  2012  22.858  22.353  22.320  22.786\n",
       "2453    5      1  2012  22.489  22.209  22.130  22.446\n",
       "2454    4      1  2012  22.276  21.750  21.716  22.216\n",
       "2455    3      1  2012  21.860  21.472  21.402  21.699"
      ]
     },
     "execution_count": 12,
     "metadata": {},
     "output_type": "execute_result"
    }
   ],
   "source": [
    "msft = df[['Day', 'Month', 'Year', 'High', 'Open', 'Low', 'Close']]\n",
    "msft.tail(10)"
   ]
  },
  {
   "cell_type": "markdown",
   "metadata": {
    "id": "KQ9SmB-QHmX0"
   },
   "source": [
    "> Next separate the independent variables (features) from the dependent variable (target column) which is `Close`. So your `X` should contain all columns in `msft` except `Close` and `y` should include `Close` only."
   ]
  },
  {
   "cell_type": "code",
   "execution_count": 13,
   "metadata": {
    "id": "e7zxFDVRHmX0"
   },
   "outputs": [],
   "source": [
    "# Separate features from the target\n",
    "X = msft.loc[:, msft.columns != 'Close']\n",
    "y = msft['Close']"
   ]
  },
  {
   "cell_type": "code",
   "execution_count": 14,
   "metadata": {
    "id": "_6uZ3rByHmX0",
    "outputId": "209b6871-6735-488a-fd9a-2f4a506020a0"
   },
   "outputs": [
    {
     "name": "stdout",
     "output_type": "stream",
     "text": [
      "(2456, 6)\n",
      "(2456,)\n"
     ]
    }
   ],
   "source": [
    "print(X.shape)\n",
    "print(y.shape)"
   ]
  },
  {
   "cell_type": "markdown",
   "metadata": {
    "id": "py4HkpdbHmX1"
   },
   "source": [
    "> **Important Note**: Double-check and make sure that `X` and `y` do NOT have anything in common; otherwise your whole work will be wrong!"
   ]
  },
  {
   "cell_type": "code",
   "execution_count": 15,
   "metadata": {
    "id": "aeKpPMYeHmX1",
    "outputId": "bfefbf12-5a25-44bb-ee12-7ed820b39eac"
   },
   "outputs": [
    {
     "data": {
      "text/html": [
       "<div>\n",
       "<style scoped>\n",
       "    .dataframe tbody tr th:only-of-type {\n",
       "        vertical-align: middle;\n",
       "    }\n",
       "\n",
       "    .dataframe tbody tr th {\n",
       "        vertical-align: top;\n",
       "    }\n",
       "\n",
       "    .dataframe thead th {\n",
       "        text-align: right;\n",
       "    }\n",
       "</style>\n",
       "<table border=\"1\" class=\"dataframe\">\n",
       "  <thead>\n",
       "    <tr style=\"text-align: right;\">\n",
       "      <th></th>\n",
       "      <th>Day</th>\n",
       "      <th>Month</th>\n",
       "      <th>Year</th>\n",
       "      <th>High</th>\n",
       "      <th>Open</th>\n",
       "      <th>Low</th>\n",
       "    </tr>\n",
       "  </thead>\n",
       "  <tbody>\n",
       "    <tr>\n",
       "      <th>0</th>\n",
       "      <td>5</td>\n",
       "      <td>10</td>\n",
       "      <td>2021</td>\n",
       "      <td>290.398</td>\n",
       "      <td>284.0464</td>\n",
       "      <td>284.0464</td>\n",
       "    </tr>\n",
       "    <tr>\n",
       "      <th>1</th>\n",
       "      <td>4</td>\n",
       "      <td>10</td>\n",
       "      <td>2021</td>\n",
       "      <td>287.750</td>\n",
       "      <td>287.4000</td>\n",
       "      <td>280.2500</td>\n",
       "    </tr>\n",
       "    <tr>\n",
       "      <th>2</th>\n",
       "      <td>1</td>\n",
       "      <td>10</td>\n",
       "      <td>2021</td>\n",
       "      <td>289.980</td>\n",
       "      <td>282.1217</td>\n",
       "      <td>281.2900</td>\n",
       "    </tr>\n",
       "    <tr>\n",
       "      <th>3</th>\n",
       "      <td>30</td>\n",
       "      <td>9</td>\n",
       "      <td>2021</td>\n",
       "      <td>287.830</td>\n",
       "      <td>285.7100</td>\n",
       "      <td>281.6200</td>\n",
       "    </tr>\n",
       "    <tr>\n",
       "      <th>4</th>\n",
       "      <td>29</td>\n",
       "      <td>9</td>\n",
       "      <td>2021</td>\n",
       "      <td>286.770</td>\n",
       "      <td>285.1000</td>\n",
       "      <td>283.0100</td>\n",
       "    </tr>\n",
       "    <tr>\n",
       "      <th>...</th>\n",
       "      <td>...</td>\n",
       "      <td>...</td>\n",
       "      <td>...</td>\n",
       "      <td>...</td>\n",
       "      <td>...</td>\n",
       "      <td>...</td>\n",
       "    </tr>\n",
       "    <tr>\n",
       "      <th>2451</th>\n",
       "      <td>9</td>\n",
       "      <td>1</td>\n",
       "      <td>2012</td>\n",
       "      <td>22.786</td>\n",
       "      <td>22.7440</td>\n",
       "      <td>22.4790</td>\n",
       "    </tr>\n",
       "    <tr>\n",
       "      <th>2452</th>\n",
       "      <td>6</td>\n",
       "      <td>1</td>\n",
       "      <td>2012</td>\n",
       "      <td>22.858</td>\n",
       "      <td>22.3530</td>\n",
       "      <td>22.3200</td>\n",
       "    </tr>\n",
       "    <tr>\n",
       "      <th>2453</th>\n",
       "      <td>5</td>\n",
       "      <td>1</td>\n",
       "      <td>2012</td>\n",
       "      <td>22.489</td>\n",
       "      <td>22.2090</td>\n",
       "      <td>22.1300</td>\n",
       "    </tr>\n",
       "    <tr>\n",
       "      <th>2454</th>\n",
       "      <td>4</td>\n",
       "      <td>1</td>\n",
       "      <td>2012</td>\n",
       "      <td>22.276</td>\n",
       "      <td>21.7500</td>\n",
       "      <td>21.7160</td>\n",
       "    </tr>\n",
       "    <tr>\n",
       "      <th>2455</th>\n",
       "      <td>3</td>\n",
       "      <td>1</td>\n",
       "      <td>2012</td>\n",
       "      <td>21.860</td>\n",
       "      <td>21.4720</td>\n",
       "      <td>21.4020</td>\n",
       "    </tr>\n",
       "  </tbody>\n",
       "</table>\n",
       "<p>2456 rows × 6 columns</p>\n",
       "</div>"
      ],
      "text/plain": [
       "      Day  Month  Year     High      Open       Low\n",
       "0       5     10  2021  290.398  284.0464  284.0464\n",
       "1       4     10  2021  287.750  287.4000  280.2500\n",
       "2       1     10  2021  289.980  282.1217  281.2900\n",
       "3      30      9  2021  287.830  285.7100  281.6200\n",
       "4      29      9  2021  286.770  285.1000  283.0100\n",
       "...   ...    ...   ...      ...       ...       ...\n",
       "2451    9      1  2012   22.786   22.7440   22.4790\n",
       "2452    6      1  2012   22.858   22.3530   22.3200\n",
       "2453    5      1  2012   22.489   22.2090   22.1300\n",
       "2454    4      1  2012   22.276   21.7500   21.7160\n",
       "2455    3      1  2012   21.860   21.4720   21.4020\n",
       "\n",
       "[2456 rows x 6 columns]"
      ]
     },
     "execution_count": 15,
     "metadata": {},
     "output_type": "execute_result"
    }
   ],
   "source": [
    "X"
   ]
  },
  {
   "cell_type": "code",
   "execution_count": 16,
   "metadata": {
    "id": "VHQtRXFgHmX2",
    "outputId": "bc0a0ff5-d904-4d02-e92f-17a096b47810"
   },
   "outputs": [
    {
     "data": {
      "text/plain": [
       "0       288.760\n",
       "1       283.110\n",
       "2       289.100\n",
       "3       281.920\n",
       "4       284.000\n",
       "         ...   \n",
       "2451     22.496\n",
       "2452     22.786\n",
       "2453     22.446\n",
       "2454     22.216\n",
       "2455     21.699\n",
       "Name: Close, Length: 2456, dtype: float64"
      ]
     },
     "execution_count": 16,
     "metadata": {},
     "output_type": "execute_result"
    }
   ],
   "source": [
    "y"
   ]
  },
  {
   "cell_type": "markdown",
   "metadata": {
    "id": "PruYpNLpHmX2"
   },
   "source": [
    "> As mentioned in the lectures, the data for supervised learning (both classification and regression) is split into training set and test set. We usually do this by importing [`train_test_split()`](https://scikit-learn.org/stable/modules/generated/sklearn.model_selection.train_test_split.html) module from scikit-learn.\n",
    "Split the data by a `test_size` ratio of 0.25"
   ]
  },
  {
   "cell_type": "code",
   "execution_count": 17,
   "metadata": {
    "id": "J3ex-WCNHmX2"
   },
   "outputs": [],
   "source": [
    "# Partition the data into train and test with a split ratio of 75/25 for train/test\n",
    "X_train, X_test, y_train, y_test = train_test_split(X, y, test_size=0.25,random_state=42)"
   ]
  },
  {
   "cell_type": "code",
   "execution_count": 18,
   "metadata": {
    "id": "ylfryslYHmX3",
    "outputId": "fa20034d-4eaf-4273-e294-a23cf0316b50"
   },
   "outputs": [
    {
     "name": "stdout",
     "output_type": "stream",
     "text": [
      "(1842, 6)\n",
      "(614, 6)\n",
      "(1842,)\n",
      "(614,)\n"
     ]
    }
   ],
   "source": [
    "print(X_train.shape)\n",
    "print(X_test.shape)\n",
    "print(y_train.shape)\n",
    "print(y_test.shape)"
   ]
  },
  {
   "cell_type": "markdown",
   "metadata": {
    "id": "-qXTHpkJHmX3"
   },
   "source": [
    "## Part-II Linear Regression with Closed Form Solution (Least Squares)"
   ]
  },
  {
   "cell_type": "markdown",
   "metadata": {
    "id": "5-UHGIy7HmX3"
   },
   "source": [
    "Now that the data is prepared, you can train and test regression models.\n",
    "\n",
    "First, you are going to use the Least Squares method using the normal equation. You can check the slides and see examples of the closed form solution (Least Squares) there. You don't have to add a column containing ones. It is fine to add ones similar to the slides/textbook example but you don't have to, you can directly get `theta_best` from `X_train` and `y_train` using normal equation.\n",
    "\n",
    "As discussed in the lectures, the normal equation is as follows:\n",
    "\n",
    "$\n",
    "\\hat{\\boldsymbol{\\theta}} = (\\mathbf{X}^T \\mathbf{X})^{-1} \\mathbf{X}^T \\mathbf{y}\n",
    "$\n",
    "\n",
    "In this normal equation:\n",
    "\n",
    "- $\\hat{\\boldsymbol{\\theta}}$ is the value of $\\theta$ that minimizes the cost function, i.e. `theta_best`.\n",
    "\n",
    "- y is the vector of target values containing $y^{(1)}$ to $y^{(m)}$, i.e. `y_train`.\n",
    "\n",
    "- $\\mathbf{X}$ is the vector of features, i.e. `X_train`."
   ]
  },
  {
   "cell_type": "code",
   "execution_count": 19,
   "metadata": {
    "id": "9e1sburEHmX3"
   },
   "outputs": [],
   "source": [
    "# Compute theta_best using normal equation in ONE LINE\n",
    "# Hint: You should use an np method and pandas dataframe dot product\n",
    "theta_best = (np.linalg.inv(X_train.transpose().dot(X_train)).dot(X_train.transpose().dot(y_train))) "
   ]
  },
  {
   "cell_type": "code",
   "execution_count": 20,
   "metadata": {
    "id": "kWjsEYeBHmX4",
    "outputId": "bb72ce19-de7a-41d4-80aa-5a8f4e614f46"
   },
   "outputs": [
    {
     "data": {
      "text/plain": [
       "(6,)"
      ]
     },
     "execution_count": 20,
     "metadata": {},
     "output_type": "execute_result"
    }
   ],
   "source": [
    "theta_best.shape"
   ]
  },
  {
   "cell_type": "code",
   "execution_count": 21,
   "metadata": {
    "id": "qEygcgTLHmX4"
   },
   "outputs": [],
   "source": [
    "# Make predictions on X_test using theta_best\n",
    "y_pred_ls = X_test.dot(theta_best)"
   ]
  },
  {
   "cell_type": "markdown",
   "metadata": {
    "id": "jtQufNPCHmX4"
   },
   "source": [
    "#### Regression Model Evaluation: MSE, RMSE, MAE"
   ]
  },
  {
   "cell_type": "markdown",
   "metadata": {
    "id": "lRTRZpQAHmX4"
   },
   "source": [
    "Next, you should evaluate the regression model.\n",
    "\n",
    "Remember from the lectures that three of the regression performance measures are MSE, RMSE, and MAE:\n",
    "\n",
    "$\n",
    "\\text{MSE}(\\mathbf{X}, h_{\\boldsymbol{\\theta}}) = \\dfrac{1}{m} \\sum\\limits_{i=1}^{m}{(\\boldsymbol{\\theta}^T \\mathbf{x}^{(i)} - y^{(i)})^2}\n",
    "$\n",
    "\n",
    "\n",
    "$\n",
    "\\text{RMSE}(\\mathbf{X}, h_{\\boldsymbol{\\theta}}) = \\sqrt{\\dfrac{1}{m} \\sum\\limits_{i=1}^{m}{(\\boldsymbol{\\theta}^T \\mathbf{x}^{(i)} - y^{(i)})^2}}\n",
    "$\n",
    "\n",
    "$\n",
    "\\text{MAE}(\\mathbf{X}, h_{\\boldsymbol{\\theta}}) = \\frac{1}{m}\\sum\\limits_{i=1}^{m}\\left| \\boldsymbol{\\theta}^T \\mathbf{x}^{(i)} - y^{(i)} \\right|\n",
    "$\n",
    "\n",
    "where $\\boldsymbol{\\theta}^T \\mathbf{x}^{(i)}$ is your prediction versus $y^{(i)}$ target values, and $m$ is number of instances.\n",
    "\n",
    "You should implement `mse`, `rmse`, and `mae` functions using ONE LINE of code for each `return` and by using Numpy `np` methods only. You should NOT use sklearn methods for implementing them, otherwise your code gets zero points for this part."
   ]
  },
  {
   "cell_type": "code",
   "execution_count": 22,
   "metadata": {
    "id": "KQSlDV6OHmX5"
   },
   "outputs": [],
   "source": [
    "def mse(y_true, y_pred):\n",
    "    return np.square(np.subtract( y_true, y_pred)).mean()"
   ]
  },
  {
   "cell_type": "code",
   "execution_count": 23,
   "metadata": {
    "id": "0BNadXUHHmX5"
   },
   "outputs": [],
   "source": [
    "def rmse(y_true, y_pred):\n",
    "    return np.sqrt(np.square(np.subtract(y_true, y_pred))).mean()"
   ]
  },
  {
   "cell_type": "code",
   "execution_count": 24,
   "metadata": {
    "id": "8TcZ-yHLHmX5"
   },
   "outputs": [],
   "source": [
    "def mae(y_true, y_pred):\n",
    "    return np.mean(np.abs(np.subtract(y_true, y_pred)))       "
   ]
  },
  {
   "cell_type": "markdown",
   "metadata": {
    "id": "oslpdeKrHmX5"
   },
   "source": [
    "> Now compute the `mse`, `rmse`, and `mae` for the Least Squares regression model. They all should be small numbers less than 1. "
   ]
  },
  {
   "cell_type": "code",
   "execution_count": 25,
   "metadata": {
    "id": "Kf_7NrjkHmX5",
    "outputId": "09fd0ae3-44f0-41c4-f709-537fb9f821cd"
   },
   "outputs": [
    {
     "name": "stdout",
     "output_type": "stream",
     "text": [
      "LS MSE 0.392770795104521\n",
      "LS RMSE 0.347159402106534\n",
      "LS MAE 0.347159402106534\n"
     ]
    }
   ],
   "source": [
    "mse_ls = mse(np.array(y_test), np.array(y_pred_ls))\n",
    "rmse_ls = rmse(np.array(y_test), np.array(y_pred_ls))\n",
    "mae_ls = mae(np.array(y_test), np.array(y_pred_ls))\n",
    "print('LS MSE', mse_ls)\n",
    "print('LS RMSE', rmse_ls)\n",
    "print('LS MAE', mae_ls)"
   ]
  },
  {
   "cell_type": "code",
   "execution_count": 26,
   "metadata": {
    "id": "IO8zvjrbHmX5",
    "outputId": "2a4433b4-2451-490a-ebdf-6c1ebfb09f6b"
   },
   "outputs": [
    {
     "name": "stdout",
     "output_type": "stream",
     "text": [
      "0.3471594021065340096576790\n"
     ]
    }
   ],
   "source": [
    "print(\"{:.25f}\".format(mae_ls))"
   ]
  },
  {
   "cell_type": "markdown",
   "metadata": {
    "id": "sknSffd4HmX5"
   },
   "source": [
    "> Next, you should check your implemented methods `mae` and `mse` by comparing your scores with the scores computed by [scikit-learn methods](https://scikit-learn.org/stable/modules/model_evaluation.html#mean-absolute-error). They should match precisely. **Note**: Do NOT round the scores. Their precision should NOT be reduced."
   ]
  },
  {
   "cell_type": "code",
   "execution_count": 27,
   "metadata": {
    "id": "NAUqIuAbHmX5"
   },
   "outputs": [],
   "source": [
    "# Compute mae and mse of LS model by sklearn methods\n",
    "sklearn_mae_ls = mean_absolute_error(y_test, y_pred_ls)\n",
    "sklearn_mse_ls = mean_squared_error(y_test, y_pred_ls)"
   ]
  },
  {
   "cell_type": "code",
   "execution_count": 28,
   "metadata": {
    "id": "2z-FMKGsHmX5",
    "outputId": "cde95413-e9f7-4f21-d259-f37a92b3501c"
   },
   "outputs": [
    {
     "name": "stdout",
     "output_type": "stream",
     "text": [
      "MAE is correct!\n",
      "MSE is correct!\n"
     ]
    }
   ],
   "source": [
    "# Scores computed by your functions should be equal to the scores computed by sklearn methods\n",
    "if sklearn_mae_ls == mae_ls:\n",
    "    print('MAE is correct!')\n",
    "else:\n",
    "    print('MAE is wrong!')\n",
    "    \n",
    "if sklearn_mse_ls == mse_ls:\n",
    "    print('MSE is correct!')\n",
    "else:\n",
    "    print('MSE is wrong!')  "
   ]
  },
  {
   "cell_type": "markdown",
   "metadata": {
    "id": "x09928p7HmX5"
   },
   "source": [
    "> Next, you should show that your LS regression model works pretty well by generating the following plot `MSFT Close Price - Actual vs Prediction`. Your generated plot should look EXACTLY the same as the provided one. You should use the same specifications of the previous plot in Part-I for (size, font size, style). Check [matplotlib documentation](https://matplotlib.org/stable/api/_as_gen/matplotlib.pyplot.plot.html) to learn how to change specifications.\n",
    "\n",
    "> The plot shows that `Actual` target values (`y_test`) and `Prediction` values of the LS model (`y_pred_ls`) match very highly."
   ]
  },
  {
   "cell_type": "code",
   "execution_count": 29,
   "metadata": {
    "id": "gHgfWQdTHmX5",
    "outputId": "9cff7a6c-ef1e-4183-9afa-649c593833b8"
   },
   "outputs": [
    {
     "data": {
      "image/png": "[encoded data removed]",
      "text/plain": [
       "<Figure size 1152x576 with 1 Axes>"
      ]
     },
     "metadata": {},
     "output_type": "display_data"
    }
   ],
   "source": [
    "''' [10 points] Incomplete plots and plots that do not precisely match with the provided plot get zero.\n",
    "\n",
    "Plot the Actual (y_test) vs Prediction (y_pred_ls) of LS model\n",
    "\n",
    "The legend should display two different colors just like this plot, blue for `Actual` and red for `Prediction`.\n",
    "\n",
    "The red points for Prediction should be slightly smaller than Actual just like the legend points,\n",
    "so that they are both displayed properly as displayed below.\n",
    "\n",
    "Everything else (the title, grid, axis labels and ticks) should match precisely with the provided plot.\n",
    "\n",
    "Note that x-axis has the label `Date [2012-2021]` with no `xticks` and there is no vertical bars in the grid.\n",
    "\n",
    "'''\n",
    "\n",
    "fig, ax = plt.subplots(figsize=(16,8))\n",
    "ax.set_xlabel('Date [2012 -2021]',fontsize=20)\n",
    "ax.set_ylabel('MSFT Close Prediction', fontsize= 20)\n",
    "ax.set_title('MSFT Close Price - Actual Vs Prediction of LS Model', fontsize=20)\n",
    "ax.set_xticklabels([])\n",
    "ax.set_xticks([])\n",
    "ax.tick_params(axis='y',labelsize=13)\n",
    "\n",
    "seaborn.scatterplot(x = df['Date'], y= y_test, color='blue', label='Actual')\n",
    "seaborn.scatterplot(x = df['Date'], y= y_pred_ls, color = 'red', label='Prediction',s=9)\n",
    "seaborn.set_style('darkgrid')\n",
    "ax.legend(fontsize=13)\n",
    "plt.show()"
   ]
  },
  {
   "cell_type": "markdown",
   "metadata": {
    "id": "9findqvfHmX5"
   },
   "source": [
    "### Part-II Questions"
   ]
  },
  {
   "cell_type": "markdown",
   "metadata": {
    "id": "JEKGWvYuHmX6"
   },
   "source": [
    "- **Q1** [5 points] Why `theta_best.shape` shape is (6,)? You should explain completely.\n",
    "\n",
    "- Answer of Q1: Theta's are the weight to the funciton. The shape of the theta above is 6 because  we are considering 6 different feature. In other words all the columns in our data sets are fetures with each having a theta value so that is why our theta corrsponds to the number of our columns or future. \n",
    "\n",
    "\n",
    "- **Q2** [5 point] Do some research and find out when/why MAE may be favored against MSE and vice-versa. In other words, in what situations MAE is a better indication of model performance and in what situations MSE? Explain your findings completely.\n",
    "\n",
    "- Answer of Q2: Mae works by measuring errors between paired observations expressing the same phenomenon. So, MAE is better when used with a very few outliers in our data. However, MSE tells you how close a regression line is to a set of points by taking the distances from the points to the regression line. So it performs better when used with a larger number of outliers in our data.  "
   ]
  },
  {
   "cell_type": "markdown",
   "metadata": {
    "id": "URa-hilAHmX6"
   },
   "source": [
    "## Part-III  Scikit-learn Linear Regression, SVR and XGBoost"
   ]
  },
  {
   "cell_type": "markdown",
   "metadata": {
    "id": "5Q1KxYmVHmX6"
   },
   "source": [
    "In Part-III, you are going to use [Linear Regression](https://scikit-learn.org/stable/modules/generated/sklearn.linear_model.LinearRegression.html), [SVR](https://scikit-learn.org/stable/modules/generated/sklearn.svm.SVR.html) and [XGBoost](https://xgboost.readthedocs.io/en/latest/python/python_api.html#module-xgboost.sklearn) to build regression models."
   ]
  },
  {
   "cell_type": "code",
   "execution_count": 30,
   "metadata": {
    "id": "V5VJCQPbHmX6",
    "outputId": "0cb8e0e8-7b49-4cf6-bb7a-b967521df842"
   },
   "outputs": [
    {
     "data": {
      "text/plain": [
       "LinearRegression()"
      ]
     },
     "execution_count": 30,
     "metadata": {},
     "output_type": "execute_result"
    }
   ],
   "source": [
    "# Build a LinearRegression model and train it on (X_train, y_train)\n",
    "lin_reg = LinearRegression()\n",
    "lin_reg.fit(X_train, y_train)"
   ]
  },
  {
   "cell_type": "code",
   "execution_count": 31,
   "metadata": {
    "id": "5YCswGPqHmX6"
   },
   "outputs": [],
   "source": [
    "# Test lin_reg on X_test\n",
    "y_pred_lin_reg = lin_reg.predict(X_test)"
   ]
  },
  {
   "cell_type": "code",
   "execution_count": 32,
   "metadata": {
    "id": "cQdS8gASHmX6",
    "outputId": "0b0e8b75-c77f-4201-91aa-d1cc8b287e9b"
   },
   "outputs": [
    {
     "name": "stdout",
     "output_type": "stream",
     "text": [
      "Linear Regression RMSE 0.34740846171457845\n"
     ]
    }
   ],
   "source": [
    "# Compute rmse for lin_reg using your own rmse function\n",
    "rmse_lin_reg = rmse(y_test, y_pred_lin_reg)\n",
    "print('Linear Regression RMSE', rmse_lin_reg)"
   ]
  },
  {
   "cell_type": "markdown",
   "metadata": {
    "id": "iXgakVKGHmX6"
   },
   "source": [
    "> Next, you should generate a plot Actual (`y_test`) on the y-axis vs Prediction (`y_pred_lin_reg`) on the x-axis that looks exactly like the following plot. Very minor variance in the blue points is acceptable but the line should be exactly the same.\n",
    "\n",
    "> The plot is titled `Plot Q3` because question **Q3** asks about it. The plot has 5 points, and the correct answer to **Q3** has also 5 points."
   ]
  },
  {
   "cell_type": "code",
   "execution_count": 33,
   "metadata": {
    "id": "aIJqVUUsHmX6",
    "outputId": "6417424e-1ac7-480d-a285-63995c59e6a4"
   },
   "outputs": [
    {
     "data": {
      "text/plain": [
       "<AxesSubplot:title={'center':'Plot Q3'}, xlabel='Prediction', ylabel='Actual'>"
      ]
     },
     "execution_count": 33,
     "metadata": {},
     "output_type": "execute_result"
    },
    {
     "data": {
      "image/png": "[encoded data removed]",
      "text/plain": [
       "<Figure size 648x360 with 1 Axes>"
      ]
     },
     "metadata": {},
     "output_type": "display_data"
    }
   ],
   "source": [
    "# Plot Q3 [5 points]\n",
    "\n",
    "fig, ax = plt.subplots(figsize=(9,5))\n",
    "ax.set_xlabel('Prediction', fontsize=12)\n",
    "ax.set_ylabel('Actual', fontsize=12)\n",
    "ax.set_title('Plot Q3', fontsize=12)\n",
    "\n",
    "seaborn.scatterplot(x=y_pred_lin_reg, y=y_test, color='blue')"
   ]
  },
  {
   "cell_type": "markdown",
   "metadata": {
    "id": "l2tQoC57HmX6"
   },
   "source": [
    "> Next build a SVM regression model (SVR). Remember that SVM can be used for both classification and regression."
   ]
  },
  {
   "cell_type": "code",
   "execution_count": 34,
   "metadata": {
    "id": "yuefCwAFHmX6",
    "outputId": "e143979a-84dd-44e5-f770-c25284d2379e"
   },
   "outputs": [
    {
     "data": {
      "text/plain": [
       "Pipeline(steps=[('standardscaler', StandardScaler()),\n",
       "                ('svr', SVR(epsilon=0.2, kernel='linear'))])"
      ]
     },
     "execution_count": 34,
     "metadata": {},
     "output_type": "execute_result"
    }
   ],
   "source": [
    "# Build a SVR (SVM Regression) model and train it on (X_train, y_train), kernel should be 'linear'\n",
    "svr = make_pipeline(StandardScaler(), SVR(C=1.0, epsilon=0.2, kernel='linear'))\n",
    "svr.fit(X_train, y_train)"
   ]
  },
  {
   "cell_type": "code",
   "execution_count": 35,
   "metadata": {
    "id": "aOHmk59nHmX6"
   },
   "outputs": [],
   "source": [
    "# Test svr\n",
    "y_pred_svr = svr.predict(X_test)"
   ]
  },
  {
   "cell_type": "code",
   "execution_count": 36,
   "metadata": {
    "id": "H8wIzVNSHmX6",
    "outputId": "b830fefb-e25b-45da-b607-b9bba6075f79"
   },
   "outputs": [
    {
     "name": "stdout",
     "output_type": "stream",
     "text": [
      "SVR RMSE 0.5534921465536086\n"
     ]
    }
   ],
   "source": [
    "# Compute rmse for svr\n",
    "rmse_svr = rmse(y_test, y_pred_svr)\n",
    "print('SVR RMSE', rmse_svr)"
   ]
  },
  {
   "cell_type": "markdown",
   "metadata": {
    "id": "I22yrknwHmX6"
   },
   "source": [
    "> Next, you should create an [XGBoost Regression](https://xgboost.readthedocs.io/en/latest/python/python_api.html#module-xgboost.sklearn) model. You should build a `XGBRegressor()` model and pass this argument `objective ='reg:squarederror'` to it."
   ]
  },
  {
   "cell_type": "code",
   "execution_count": 37,
   "metadata": {
    "id": "xtP_ke5dHmX7"
   },
   "outputs": [
    {
     "data": {
      "text/plain": [
       "XGBRegressor(base_score=0.5, booster='gbtree', colsample_bylevel=1,\n",
       "             colsample_bynode=1, colsample_bytree=1, gamma=0, gpu_id=-1,\n",
       "             importance_type='gain', interaction_constraints='',\n",
       "             learning_rate=0.300000012, max_delta_step=0, max_depth=6,\n",
       "             min_child_weight=1, missing=nan, monotone_constraints='()',\n",
       "             n_estimators=100, n_jobs=8, num_parallel_tree=1, random_state=0,\n",
       "             reg_alpha=0, reg_lambda=1, scale_pos_weight=1, subsample=1,\n",
       "             tree_method='exact', validate_parameters=1, verbosity=None)"
      ]
     },
     "execution_count": 37,
     "metadata": {},
     "output_type": "execute_result"
    }
   ],
   "source": [
    "# Build a xgb regression model and train it on (X_train, y_train)\n",
    "xgb_reg = XGBRegressor(objective='reg:squarederror') \n",
    "XGBRegressor(base_score=0.5, booster='gbtree', colsample_bylevel=1,colsample_bynode=1,colsample_bytree=1,gamma=0,gpu_id=-1,\n",
    "                       importance_type='gain', interaction_constraints='', learning_rate=0.1, max_delta_step=0, max_depth=6,\n",
    "                       min_child_weight=1, missing='nan', monotone_constraints='()',n_estimators=100, n_jobs=12, num_parallel_tree=1, random_state=0, reg_alpha=0,\n",
    "                       reg_lamba=1, scale_pos_weight=1, subsample=1, tree_method='exact', validate_parameters=1, verbosity=None)  \n",
    "xgb_reg.fit(X_train, y_train)"
   ]
  },
  {
   "cell_type": "code",
   "execution_count": 38,
   "metadata": {
    "id": "vXnq8QjiHmX7"
   },
   "outputs": [],
   "source": [
    "# Test xgb_reg\n",
    "y_pred_xgb = xgb_reg.predict(X_test)"
   ]
  },
  {
   "cell_type": "code",
   "execution_count": 39,
   "metadata": {
    "id": "ldrXD5xxHmX7",
    "outputId": "cdd0b52a-533c-4593-b268-ae72d66e5394"
   },
   "outputs": [
    {
     "name": "stdout",
     "output_type": "stream",
     "text": [
      "XGB RMSE 0.649543330537379\n"
     ]
    }
   ],
   "source": [
    "# Compute rmse for xgb_reg\n",
    "rmse_xgb = rmse(y_test,y_pred_xgb)\n",
    "print('XGB RMSE', rmse_xgb)"
   ]
  },
  {
   "cell_type": "markdown",
   "metadata": {
    "id": "UwA3Q7mhHmX7"
   },
   "source": [
    "> SVR outperforms XGBoost on this problem. Next, you should fine-tune hyperparameters of SVR per the instructions in the following cell.\n",
    "\n",
    "> If a model has a lot of hyperparameters, it is not an easy task to fine-tune them, and as you experienced, `GridSearchCV` takes a lot of time, so this time you're going to use a different search strategy [`RandomizedSearchCV`](https://scikit-learn.org/stable/modules/generated/sklearn.model_selection.RandomizedSearchCV.html) which is much faster and more efficient than `GridSearchCV` (which is more suitable when you have fewer number of combinations of hyperparameters). Read its documentation and notice that while it is very similar to `GridSearchCV`, the dictionary that stores the params/values is a different parameter in this method.\n",
    "\n",
    "> Also, read [this article](https://scikit-learn.org/stable/auto_examples/model_selection/plot_randomized_search.html) on the comparison between the two search methods. "
   ]
  },
  {
   "cell_type": "code",
   "execution_count": 40,
   "metadata": {
    "id": "IHLmafuIHmX7"
   },
   "outputs": [
    {
     "name": "stdout",
     "output_type": "stream",
     "text": [
      "Randomized search for hyperparameter tuning of SVR Regressor\n",
      "Best Parameters: {'tol': 0.1, 'shrinking': False, 'kernel': 'linear', 'epsilon': 0.1, 'C': 1.0}\n"
     ]
    }
   ],
   "source": [
    "'''[20 points] If you do not satisfy the rmse requirement in the following cell, the grade of this part will be zero\n",
    "Fine-tune hyperparameters of SVR using RandomizedSearchCV to get rmse 0.73 or lower\n",
    "You must tune 'tol', 'C', 'epsilon', 'shrinking' in the search\n",
    "You should include at least two values per hyperparameter (and more if needed)\n",
    "'''\n",
    "dic = {\n",
    "        'kernel':['linear'], 'tol':[1,0.1],'C':[1.0,1.2], \n",
    "       'epsilon':[0.1,1], 'shrinking':[True,False]\n",
    "      }\n",
    "\n",
    "svr_reg = SVR(kernel='linear',C=1.0, epsilon=0.1, tol=1e-3, shrinking=True)\n",
    "\n",
    "randomized_search = RandomizedSearchCV(svr_reg, dic)\n",
    "\n",
    "best_svr = randomized_search.fit(X_train, y_train)\n",
    "\n",
    "print('Randomized search for hyperparameter tuning of SVR Regressor')\n",
    "print('Best Parameters: ' + str(best_svr.best_params_))"
   ]
  },
  {
   "cell_type": "code",
   "execution_count": 41,
   "metadata": {
    "id": "d_g2Ux-LHmX7",
    "outputId": "b2bc5534-f266-4c14-f714-5ba5b8745bb2"
   },
   "outputs": [
    {
     "name": "stdout",
     "output_type": "stream",
     "text": [
      "Best SVR RMSE 0.4664786253064471\n"
     ]
    }
   ],
   "source": [
    "# Train and test best_svr, and compute rmse with your rmse function that you implemented\n",
    "best_svr = best_svr.fit(X_train,y_train)\n",
    "y_pred_best_svr = best_svr.predict(X_test)\n",
    "rmse_best_svr = rmse(y_test,y_pred_best_svr)\n",
    "print('Best SVR RMSE', rmse_best_svr)"
   ]
  },
  {
   "cell_type": "markdown",
   "metadata": {
    "id": "m-6J78xoHmX7"
   },
   "source": [
    "> **Maximum Acceptable RMSE Requirement for Best SVR**: Your rounded `rmse_best_svr` with two decimal places should be less than or equal to **0.73**, so if your rounded `rmse_best_svr` is higher than 0.73, it is NOT acceptable. It should be 0.73 or lower; **otherwise it gets zero points for this part**. The correct implementation of the randomized search and getting the desired rmse has 20 points.\n",
    "\n",
    "> **Hint**: Because you are using `RandomizedSearchCV` which takes less time, you should try as many values for the hyperparameters as needed. You may have to run the randomized search multiple times until you get `rmse_best_svr` equal to 0.73 or lower. If after a few runs you couldn't get the desired result, you may have to repartition the data again (rerun the `train_test_split()` method and try again with a new search). You should do this experiment patiently as it may take a lot of time and efforts. One has to work tirelessly to gain the required skills and the desired results in ML and Data Science projects."
   ]
  },
  {
   "cell_type": "markdown",
   "metadata": {
    "id": "HBsvrKxlHmX7"
   },
   "source": [
    "> Last step is calculating another regression performance measure $R^2$ [Coefficient of Determination](https://en.wikipedia.org/wiki/Coefficient_of_determination). You can use sklearn [`r2_score`](https://scikit-learn.org/stable/modules/generated/sklearn.metrics.r2_score.html) method. For SVR, the $R^2$ score must be for the `best_svr`. All $R^2$ scores of your regression models should be close to 1. "
   ]
  },
  {
   "cell_type": "code",
   "execution_count": 42,
   "metadata": {
    "id": "b0mV7c9pHmX7"
   },
   "outputs": [
    {
     "name": "stdout",
     "output_type": "stream",
     "text": [
      "Least Squares R2:  0.9999206469511925\n",
      "Linear Regression R2:  0.9999206898159027\n",
      "XGB R2:  0.9997648423807183\n",
      "Best SVR R2:  0.9998154113526385\n"
     ]
    }
   ],
   "source": [
    "r2_ls = r2_score(y_pred_ls, y_test)\n",
    "r2_lin_reg = r2_score(y_pred_lin_reg,y_test)\n",
    "r2_xgb = r2_score(y_pred_xgb, y_test)\n",
    "r2_best_svr = r2_score(y_pred_svr, y_test)\n",
    "print('Least Squares R2: ', r2_ls)\n",
    "print('Linear Regression R2: ', r2_lin_reg)\n",
    "print('XGB R2: ', r2_xgb)\n",
    "print('Best SVR R2: ', r2_best_svr)"
   ]
  },
  {
   "cell_type": "markdown",
   "metadata": {
    "id": "-2ap9z2zHmX8"
   },
   "source": [
    "### Part-III Question"
   ]
  },
  {
   "cell_type": "markdown",
   "metadata": {
    "id": "EVna_HxDHmX8"
   },
   "source": [
    "- **Q3** [5 points] What does `Plot Q3` the Actual vs Prediction plot of `lin_reg` model imply? Explain completely. You should justify your answer mathematically, otherwise your answer gets zero.\n",
    "- Answer of Q3: The scatterplot in Q3 shows how close the predicted value is to the actual value. Ideally, the scatterplot should look like a diagonal line, which would implie that the accurcy of the predicted value is high. \n",
    "\n",
    "The accuray of the predicted value is measured by error measure function. In the above cell we see r2_score for the model, a high value of the r2_score tell us the model is preforming well. \n",
    "\n",
    "Equation of the plot:\n",
    "\n",
    "Y = X is the equation for the plot. X being the predicted value and Y the actual Value. If we draw a line that passes throw the model using the Actual vs Actual value, the scattered points should be close to that line. \n",
    "\n",
    "How the prediction works:\n",
    "\n",
    "theat_hat is the best theta value for the model. \n",
    "theat_hat = Inverse((transpose(X). X)) . transpose(X).y\n",
    "\n",
    "=> X is the instance feature vector.\n",
    "=> y is the target value.\n",
    "\n",
    "y_predication = theta_hat . X ==> theta is the best parameter vector and X is instances feature\n",
    "After we find y_predication, we can use perfomace measure function to check how accurate the model is.\n",
    "\n",
    "MSE: (1/m) * Σ(actual – prediction)^2\n",
    "\n",
    "We can calculate the error by plugging in the predicted value. So if we have a good model we need to minimize the MSE value by using different methods like gridsearch. \n",
    "\n",
    "That is what the plot is showing the difference between prediction and actual value. "
   ]
  },
  {
   "cell_type": "markdown",
   "metadata": {
    "id": "nkwBN_opHmX8"
   },
   "source": [
    "## Grading\n",
    "\n",
    "Assignment-2 has a maximum of 100 points. **You must run all cells** and get the correct outputs for all cells and give complete answers to all questions. **Cells/codes with no output get zero!** Also, your notebook should be written with no grammatical and spelling errors and should be easy-to-read.\n",
    "\n",
    "The breakdown of the 100 points is as follows:\n",
    "\n",
    "- Part-I - 15 points - **Incorrect/incomplete plot in Part-I gets zero.**\n",
    "   \n",
    "\n",
    "- Part-II - 45 points\n",
    "    - Implementation and results: 35 points\n",
    "        - Correct Least Squares model: 10 points\n",
    "        - Correct mse, rmse, and mae functions: 15 points\n",
    "        - Correct \"MSFT Close Price - Actual vs Prediction\" plot: 10 points - **Incorrect/incomplete plot gets zero.**\n",
    "    - Part-II Questions: 10 points\n",
    "    \n",
    "\n",
    "- Part-III - 40 points\n",
    "    - Implementation and results: 35 points\n",
    "        - Building three regression models: 15 points\n",
    "        - Randomized search and getting the desired rmse for `best_svr`: 20 points **Note**: Incorrect `RandomizedSearchCV` and not meeting the rmse requirement get zero.\n",
    "    - Part-III Question: 5 points\n",
    "    \n",
    "\n",
    "<b>Note: </b>Follow the instructions of each section carefully. **Up to 10 points may be deducted if your submitted notebook is not easy to read and follow or if it has grammatical, spelling or formatting issues.**\n",
    "\n",
    "Grading will be based on: \n",
    "\n",
    "  * correct implementation,\n",
    "  * running ALL cells and correct outputs and plots, (cells with no output get ZERO for the whole part that includes the cell)\n",
    "  * correct answer to the questions,\n",
    "  * readability of the notebook."
   ]
  },
  {
   "cell_type": "markdown",
   "metadata": {
    "id": "lldE7mDsHmX8"
   },
   "source": [
    "## Submission"
   ]
  },
  {
   "cell_type": "markdown",
   "metadata": {
    "id": "GrnMWD52HmX8"
   },
   "source": [
    "Name your notebook ```Lastname-A2.ipynb```. Submit the completed notebook using the ```Assignment-2``` link on Blackboard.\n",
    "\n",
    "**Note:** You have a maximum of TWO submissions. If you submit a second notebook, your second notebook will be graded and the first submitted notebook will be ignored. Be very careful in your submissions as resubmission requests (for the third time) will NOT be accepted!\n",
    "  \n",
    "<font color=red><b>Due Date: Thursday October 14th, 11:59PM</b></font>"
   ]
  }
 ],
 "metadata": {
  "colab": {
   "name": "ML-Assignment-2-F21.ipynb",
   "provenance": []
  },
  "kernelspec": {
   "display_name": "Python 3",
   "language": "python",
   "name": "python3"
  },
  "language_info": {
   "codemirror_mode": {
    "name": "ipython",
    "version": 3
   },
   "file_extension": ".py",
   "mimetype": "text/x-python",
   "name": "python",
   "nbconvert_exporter": "python",
   "pygments_lexer": "ipython3",
   "version": "3.8.8"
  }
 },
 "nbformat": 4,
 "nbformat_minor": 1
}
