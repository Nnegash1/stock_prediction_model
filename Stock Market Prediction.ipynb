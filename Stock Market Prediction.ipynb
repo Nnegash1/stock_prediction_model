{
 "cells": [
  {
   "cell_type": "markdown",
   "metadata": {
    "id": "vu2W52BzHmXr"
   },
   "source": [
    "### <font color=\"blue\"> Regression - Stock Market Prediction</font>"
   ]
  },
  {
   "cell_type": "markdown",
   "metadata": {
    "id": "8OUpqQPmHmXt"
   },
   "source": [
    "Name: Nahom Negash"
   ]
  },
  {
   "cell_type": "code",
   "execution_count": 2,
   "metadata": {
    "id": "H-YreZpZHmXv"
   },
   "outputs": [],
   "source": [
    "# Import all necessary modules\n",
    "import numpy as np\n",
    "import matplotlib.pyplot as plt\n",
    "import seaborn as seaborn\n",
    "from sklearn.model_selection import train_test_split, RandomizedSearchCV\n",
    "from sklearn.linear_model import LinearRegression\n",
    "from sklearn.metrics import mean_squared_error, mean_absolute_error, r2_score\n",
    "from sklearn.svm import SVR\n",
    "from sklearn.pipeline import make_pipeline\n",
    "from sklearn.preprocessing import StandardScaler\n",
    "from xgboost import XGBRegressor\n",
    "import xgboost\n",
    "from scipy.stats import uniform"
   ]
  },
  {
   "cell_type": "markdown",
   "metadata": {
    "id": "vU9xNxbuHmXv"
   },
   "source": [
    "## Installing pandas-datareader"
   ]
  },
  {
   "cell_type": "markdown",
   "metadata": {
    "id": "QylHNteWHmXw"
   },
   "source": [
    "You should install [pandas-datareader](https://pandas-datareader.readthedocs.io/en/latest/). In Linux, it's as easy as running the following pip command in your notebook. In other OS platforms, you may need to install it via Anaconda command prompt. "
   ]
  },
  {
   "cell_type": "code",
   "execution_count": 3,
   "metadata": {
    "id": "fBPvNmCAHmXw"
   },
   "outputs": [],
   "source": [
    "#!pip install pandas-datareader"
   ]
  },
  {
   "cell_type": "code",
   "execution_count": 4,
   "metadata": {
    "id": "dX66M9s9HmXw"
   },
   "outputs": [],
   "source": [
    "import pandas_datareader.data as web"
   ]
  },
  {
   "cell_type": "markdown",
   "metadata": {
    "id": "DXB5TLKcHmXw"
   },
   "source": [
    "## Part I - Preprocessing"
   ]
  },
  {
   "cell_type": "markdown",
   "metadata": {
    "id": "jv8cHvBPHmXw"
   },
   "source": [
    "Now you can read the data live from the [web](https://pandas-datareader.readthedocs.io/en/latest/remote_data.html#stooq-index-data)."
   ]
  },
  {
   "cell_type": "code",
   "execution_count": 13,
   "metadata": {
    "id": "yL-VZwWvHmXw",
    "outputId": "2bdd17f4-6874-4780-899c-210d2a9df45f"
   },
   "outputs": [
    {
     "data": {
      "text/html": [
       "<div>\n",
       "<style scoped>\n",
       "    .dataframe tbody tr th:only-of-type {\n",
       "        vertical-align: middle;\n",
       "    }\n",
       "\n",
       "    .dataframe tbody tr th {\n",
       "        vertical-align: top;\n",
       "    }\n",
       "\n",
       "    .dataframe thead th {\n",
       "        text-align: right;\n",
       "    }\n",
       "</style>\n",
       "<table border=\"1\" class=\"dataframe\">\n",
       "  <thead>\n",
       "    <tr style=\"text-align: right;\">\n",
       "      <th></th>\n",
       "      <th>Open</th>\n",
       "      <th>High</th>\n",
       "      <th>Low</th>\n",
       "      <th>Close</th>\n",
       "      <th>Volume</th>\n",
       "    </tr>\n",
       "    <tr>\n",
       "      <th>Date</th>\n",
       "      <th></th>\n",
       "      <th></th>\n",
       "      <th></th>\n",
       "      <th></th>\n",
       "      <th></th>\n",
       "    </tr>\n",
       "  </thead>\n",
       "  <tbody>\n",
       "    <tr>\n",
       "      <th>2021-10-05</th>\n",
       "      <td>284.0464</td>\n",
       "      <td>290.398</td>\n",
       "      <td>284.0464</td>\n",
       "      <td>288.76</td>\n",
       "      <td>24993024</td>\n",
       "    </tr>\n",
       "    <tr>\n",
       "      <th>2021-10-04</th>\n",
       "      <td>287.4000</td>\n",
       "      <td>287.750</td>\n",
       "      <td>280.2500</td>\n",
       "      <td>283.11</td>\n",
       "      <td>31350747</td>\n",
       "    </tr>\n",
       "    <tr>\n",
       "      <th>2021-10-01</th>\n",
       "      <td>282.1217</td>\n",
       "      <td>289.980</td>\n",
       "      <td>281.2900</td>\n",
       "      <td>289.10</td>\n",
       "      <td>30086280</td>\n",
       "    </tr>\n",
       "    <tr>\n",
       "      <th>2021-09-30</th>\n",
       "      <td>285.7100</td>\n",
       "      <td>287.830</td>\n",
       "      <td>281.6200</td>\n",
       "      <td>281.92</td>\n",
       "      <td>32343635</td>\n",
       "    </tr>\n",
       "    <tr>\n",
       "      <th>2021-09-29</th>\n",
       "      <td>285.1000</td>\n",
       "      <td>286.770</td>\n",
       "      <td>283.0100</td>\n",
       "      <td>284.00</td>\n",
       "      <td>26353696</td>\n",
       "    </tr>\n",
       "    <tr>\n",
       "      <th>2021-09-28</th>\n",
       "      <td>289.7950</td>\n",
       "      <td>290.780</td>\n",
       "      <td>282.7500</td>\n",
       "      <td>283.52</td>\n",
       "      <td>43186237</td>\n",
       "    </tr>\n",
       "    <tr>\n",
       "      <th>2021-09-27</th>\n",
       "      <td>296.1400</td>\n",
       "      <td>296.470</td>\n",
       "      <td>292.9449</td>\n",
       "      <td>294.17</td>\n",
       "      <td>23571742</td>\n",
       "    </tr>\n",
       "    <tr>\n",
       "      <th>2021-09-24</th>\n",
       "      <td>298.2300</td>\n",
       "      <td>299.800</td>\n",
       "      <td>296.9300</td>\n",
       "      <td>299.35</td>\n",
       "      <td>14998978</td>\n",
       "    </tr>\n",
       "    <tr>\n",
       "      <th>2021-09-23</th>\n",
       "      <td>298.8450</td>\n",
       "      <td>300.900</td>\n",
       "      <td>297.5339</td>\n",
       "      <td>299.56</td>\n",
       "      <td>18604601</td>\n",
       "    </tr>\n",
       "    <tr>\n",
       "      <th>2021-09-22</th>\n",
       "      <td>296.7250</td>\n",
       "      <td>300.220</td>\n",
       "      <td>294.5100</td>\n",
       "      <td>298.58</td>\n",
       "      <td>26626342</td>\n",
       "    </tr>\n",
       "  </tbody>\n",
       "</table>\n",
       "</div>"
      ],
      "text/plain": [
       "                Open     High       Low   Close    Volume\n",
       "Date                                                     \n",
       "2021-10-05  284.0464  290.398  284.0464  288.76  24993024\n",
       "2021-10-04  287.4000  287.750  280.2500  283.11  31350747\n",
       "2021-10-01  282.1217  289.980  281.2900  289.10  30086280\n",
       "2021-09-30  285.7100  287.830  281.6200  281.92  32343635\n",
       "2021-09-29  285.1000  286.770  283.0100  284.00  26353696\n",
       "2021-09-28  289.7950  290.780  282.7500  283.52  43186237\n",
       "2021-09-27  296.1400  296.470  292.9449  294.17  23571742\n",
       "2021-09-24  298.2300  299.800  296.9300  299.35  14998978\n",
       "2021-09-23  298.8450  300.900  297.5339  299.56  18604601\n",
       "2021-09-22  296.7250  300.220  294.5100  298.58  26626342"
      ]
     },
     "execution_count": 13,
     "metadata": {},
     "output_type": "execute_result"
    }
   ],
   "source": [
    "df = web.DataReader('MSFT', 'stooq', start='2012-01-01', end='2021-10-05')\n",
    "df.head(10)"
   ]
  },
  {
   "cell_type": "code",
   "execution_count": 14,
   "metadata": {
    "id": "j7rcaAkvHmXy",
    "outputId": "4a189bd5-e66c-42b3-9932-ed847d74d9d6"
   },
   "outputs": [
    {
     "data": {
      "text/html": [
       "<div>\n",
       "<style scoped>\n",
       "    .dataframe tbody tr th:only-of-type {\n",
       "        vertical-align: middle;\n",
       "    }\n",
       "\n",
       "    .dataframe tbody tr th {\n",
       "        vertical-align: top;\n",
       "    }\n",
       "\n",
       "    .dataframe thead th {\n",
       "        text-align: right;\n",
       "    }\n",
       "</style>\n",
       "<table border=\"1\" class=\"dataframe\">\n",
       "  <thead>\n",
       "    <tr style=\"text-align: right;\">\n",
       "      <th></th>\n",
       "      <th>Open</th>\n",
       "      <th>High</th>\n",
       "      <th>Low</th>\n",
       "      <th>Close</th>\n",
       "      <th>Volume</th>\n",
       "    </tr>\n",
       "  </thead>\n",
       "  <tbody>\n",
       "    <tr>\n",
       "      <th>count</th>\n",
       "      <td>2456.000000</td>\n",
       "      <td>2456.000000</td>\n",
       "      <td>2456.000000</td>\n",
       "      <td>2456.000000</td>\n",
       "      <td>2.456000e+03</td>\n",
       "    </tr>\n",
       "    <tr>\n",
       "      <th>mean</th>\n",
       "      <td>88.323902</td>\n",
       "      <td>89.141641</td>\n",
       "      <td>87.485633</td>\n",
       "      <td>88.365283</td>\n",
       "      <td>3.733027e+07</td>\n",
       "    </tr>\n",
       "    <tr>\n",
       "      <th>std</th>\n",
       "      <td>71.657952</td>\n",
       "      <td>72.349475</td>\n",
       "      <td>70.964094</td>\n",
       "      <td>71.702483</td>\n",
       "      <td>2.133297e+07</td>\n",
       "    </tr>\n",
       "    <tr>\n",
       "      <th>min</th>\n",
       "      <td>21.472000</td>\n",
       "      <td>21.860000</td>\n",
       "      <td>21.402000</td>\n",
       "      <td>21.699000</td>\n",
       "      <td>7.797724e+06</td>\n",
       "    </tr>\n",
       "    <tr>\n",
       "      <th>25%</th>\n",
       "      <td>35.847750</td>\n",
       "      <td>36.222500</td>\n",
       "      <td>35.613000</td>\n",
       "      <td>35.932000</td>\n",
       "      <td>2.365191e+07</td>\n",
       "    </tr>\n",
       "    <tr>\n",
       "      <th>50%</th>\n",
       "      <td>56.005500</td>\n",
       "      <td>56.350000</td>\n",
       "      <td>55.623000</td>\n",
       "      <td>56.022000</td>\n",
       "      <td>3.193310e+07</td>\n",
       "    </tr>\n",
       "    <tr>\n",
       "      <th>75%</th>\n",
       "      <td>121.025000</td>\n",
       "      <td>122.415000</td>\n",
       "      <td>120.430000</td>\n",
       "      <td>121.727500</td>\n",
       "      <td>4.480348e+07</td>\n",
       "    </tr>\n",
       "    <tr>\n",
       "      <th>max</th>\n",
       "      <td>305.020000</td>\n",
       "      <td>305.840000</td>\n",
       "      <td>302.003500</td>\n",
       "      <td>305.220000</td>\n",
       "      <td>2.933959e+08</td>\n",
       "    </tr>\n",
       "  </tbody>\n",
       "</table>\n",
       "</div>"
      ],
      "text/plain": [
       "              Open         High          Low        Close        Volume\n",
       "count  2456.000000  2456.000000  2456.000000  2456.000000  2.456000e+03\n",
       "mean     88.323902    89.141641    87.485633    88.365283  3.733027e+07\n",
       "std      71.657952    72.349475    70.964094    71.702483  2.133297e+07\n",
       "min      21.472000    21.860000    21.402000    21.699000  7.797724e+06\n",
       "25%      35.847750    36.222500    35.613000    35.932000  2.365191e+07\n",
       "50%      56.005500    56.350000    55.623000    56.022000  3.193310e+07\n",
       "75%     121.025000   122.415000   120.430000   121.727500  4.480348e+07\n",
       "max     305.020000   305.840000   302.003500   305.220000  2.933959e+08"
      ]
     },
     "execution_count": 14,
     "metadata": {},
     "output_type": "execute_result"
    }
   ],
   "source": [
    "df.reset_index(inplace=True)\n",
    "df.describe()"
   ]
  },
  {
   "cell_type": "code",
   "execution_count": 15,
   "metadata": {
    "id": "kUfdk-K1HmXy"
   },
   "outputs": [
    {
     "data": {
      "text/html": [
       "<div>\n",
       "<style scoped>\n",
       "    .dataframe tbody tr th:only-of-type {\n",
       "        vertical-align: middle;\n",
       "    }\n",
       "\n",
       "    .dataframe tbody tr th {\n",
       "        vertical-align: top;\n",
       "    }\n",
       "\n",
       "    .dataframe thead th {\n",
       "        text-align: right;\n",
       "    }\n",
       "</style>\n",
       "<table border=\"1\" class=\"dataframe\">\n",
       "  <thead>\n",
       "    <tr style=\"text-align: right;\">\n",
       "      <th></th>\n",
       "      <th>Open</th>\n",
       "      <th>High</th>\n",
       "      <th>Low</th>\n",
       "      <th>Close</th>\n",
       "      <th>Volume</th>\n",
       "    </tr>\n",
       "  </thead>\n",
       "  <tbody>\n",
       "    <tr>\n",
       "      <th>Open</th>\n",
       "      <td>1.000000</td>\n",
       "      <td>0.999899</td>\n",
       "      <td>0.999891</td>\n",
       "      <td>0.999795</td>\n",
       "      <td>-0.297753</td>\n",
       "    </tr>\n",
       "    <tr>\n",
       "      <th>High</th>\n",
       "      <td>0.999899</td>\n",
       "      <td>1.000000</td>\n",
       "      <td>0.999831</td>\n",
       "      <td>0.999883</td>\n",
       "      <td>-0.294524</td>\n",
       "    </tr>\n",
       "    <tr>\n",
       "      <th>Low</th>\n",
       "      <td>0.999891</td>\n",
       "      <td>0.999831</td>\n",
       "      <td>1.000000</td>\n",
       "      <td>0.999895</td>\n",
       "      <td>-0.301417</td>\n",
       "    </tr>\n",
       "    <tr>\n",
       "      <th>Close</th>\n",
       "      <td>0.999795</td>\n",
       "      <td>0.999883</td>\n",
       "      <td>0.999895</td>\n",
       "      <td>1.000000</td>\n",
       "      <td>-0.298456</td>\n",
       "    </tr>\n",
       "    <tr>\n",
       "      <th>Volume</th>\n",
       "      <td>-0.297753</td>\n",
       "      <td>-0.294524</td>\n",
       "      <td>-0.301417</td>\n",
       "      <td>-0.298456</td>\n",
       "      <td>1.000000</td>\n",
       "    </tr>\n",
       "  </tbody>\n",
       "</table>\n",
       "</div>"
      ],
      "text/plain": [
       "            Open      High       Low     Close    Volume\n",
       "Open    1.000000  0.999899  0.999891  0.999795 -0.297753\n",
       "High    0.999899  1.000000  0.999831  0.999883 -0.294524\n",
       "Low     0.999891  0.999831  1.000000  0.999895 -0.301417\n",
       "Close   0.999795  0.999883  0.999895  1.000000 -0.298456\n",
       "Volume -0.297753 -0.294524 -0.301417 -0.298456  1.000000"
      ]
     },
     "execution_count": 15,
     "metadata": {},
     "output_type": "execute_result"
    }
   ],
   "source": [
    "corr = df.corr(method='pearson')\n",
    "corr"
   ]
  },
  {
   "cell_type": "markdown",
   "metadata": {
    "id": "GThe63MyHmXy"
   },
   "source": [
    "> You can also visualize the correlations using [seaborn](https://seaborn.pydata.org/installing.html) heatmaps. You should install it if you don't have it, and then you should import it."
   ]
  },
  {
   "cell_type": "code",
   "execution_count": 16,
   "metadata": {
    "id": "wmYWWuGOHmXz"
   },
   "outputs": [
    {
     "data": {
      "text/plain": [
       "<AxesSubplot:>"
      ]
     },
     "execution_count": 16,
     "metadata": {},
     "output_type": "execute_result"
    }
   ],
   "source": [
    "seaborn.heatmap(corr, xticklabels=corr.columns, yticklabels=corr.columns, cmap='RdBu_r', annot=True, linewidth=0.5)"
   ]
  },
  {
   "cell_type": "code",
   "execution_count": 26,
   "metadata": {
    "id": "LQb9PGBNHmXz",
    "outputId": "175e1064-0904-4790-d930-3558aac8c6ac"
   },
   "outputs": [
    {
     "name": "stderr",
     "output_type": "stream",
     "text": [
      "<ipython-input-26-34b6bb8ed173>:2: FutureWarning: In a future version of pandas all arguments of DataFrame.drop except for the argument 'labels' will be keyword-only\n",
      "  df = df.drop('Volume',1)\n"
     ]
    }
   ],
   "source": [
    "# Drop Volume and Adj Close\n",
    "df = df.drop('Volume',1)"
   ]
  },
  {
   "cell_type": "code",
   "execution_count": 27,
   "metadata": {},
   "outputs": [
    {
     "data": {
      "text/html": [
       "<div>\n",
       "<style scoped>\n",
       "    .dataframe tbody tr th:only-of-type {\n",
       "        vertical-align: middle;\n",
       "    }\n",
       "\n",
       "    .dataframe tbody tr th {\n",
       "        vertical-align: top;\n",
       "    }\n",
       "\n",
       "    .dataframe thead th {\n",
       "        text-align: right;\n",
       "    }\n",
       "</style>\n",
       "<table border=\"1\" class=\"dataframe\">\n",
       "  <thead>\n",
       "    <tr style=\"text-align: right;\">\n",
       "      <th></th>\n",
       "      <th>Date</th>\n",
       "      <th>Open</th>\n",
       "      <th>High</th>\n",
       "      <th>Low</th>\n",
       "      <th>Close</th>\n",
       "      <th>Year</th>\n",
       "      <th>Month</th>\n",
       "      <th>Day</th>\n",
       "    </tr>\n",
       "  </thead>\n",
       "  <tbody>\n",
       "    <tr>\n",
       "      <th>0</th>\n",
       "      <td>2021-10-05</td>\n",
       "      <td>284.0464</td>\n",
       "      <td>290.398</td>\n",
       "      <td>284.0464</td>\n",
       "      <td>288.760</td>\n",
       "      <td>2021</td>\n",
       "      <td>10</td>\n",
       "      <td>5</td>\n",
       "    </tr>\n",
       "    <tr>\n",
       "      <th>1</th>\n",
       "      <td>2021-10-04</td>\n",
       "      <td>287.4000</td>\n",
       "      <td>287.750</td>\n",
       "      <td>280.2500</td>\n",
       "      <td>283.110</td>\n",
       "      <td>2021</td>\n",
       "      <td>10</td>\n",
       "      <td>4</td>\n",
       "    </tr>\n",
       "    <tr>\n",
       "      <th>2</th>\n",
       "      <td>2021-10-01</td>\n",
       "      <td>282.1217</td>\n",
       "      <td>289.980</td>\n",
       "      <td>281.2900</td>\n",
       "      <td>289.100</td>\n",
       "      <td>2021</td>\n",
       "      <td>10</td>\n",
       "      <td>1</td>\n",
       "    </tr>\n",
       "    <tr>\n",
       "      <th>3</th>\n",
       "      <td>2021-09-30</td>\n",
       "      <td>285.7100</td>\n",
       "      <td>287.830</td>\n",
       "      <td>281.6200</td>\n",
       "      <td>281.920</td>\n",
       "      <td>2021</td>\n",
       "      <td>9</td>\n",
       "      <td>30</td>\n",
       "    </tr>\n",
       "    <tr>\n",
       "      <th>4</th>\n",
       "      <td>2021-09-29</td>\n",
       "      <td>285.1000</td>\n",
       "      <td>286.770</td>\n",
       "      <td>283.0100</td>\n",
       "      <td>284.000</td>\n",
       "      <td>2021</td>\n",
       "      <td>9</td>\n",
       "      <td>29</td>\n",
       "    </tr>\n",
       "    <tr>\n",
       "      <th>...</th>\n",
       "      <td>...</td>\n",
       "      <td>...</td>\n",
       "      <td>...</td>\n",
       "      <td>...</td>\n",
       "      <td>...</td>\n",
       "      <td>...</td>\n",
       "      <td>...</td>\n",
       "      <td>...</td>\n",
       "    </tr>\n",
       "    <tr>\n",
       "      <th>2451</th>\n",
       "      <td>2012-01-09</td>\n",
       "      <td>22.7440</td>\n",
       "      <td>22.786</td>\n",
       "      <td>22.4790</td>\n",
       "      <td>22.496</td>\n",
       "      <td>2012</td>\n",
       "      <td>1</td>\n",
       "      <td>9</td>\n",
       "    </tr>\n",
       "    <tr>\n",
       "      <th>2452</th>\n",
       "      <td>2012-01-06</td>\n",
       "      <td>22.3530</td>\n",
       "      <td>22.858</td>\n",
       "      <td>22.3200</td>\n",
       "      <td>22.786</td>\n",
       "      <td>2012</td>\n",
       "      <td>1</td>\n",
       "      <td>6</td>\n",
       "    </tr>\n",
       "    <tr>\n",
       "      <th>2453</th>\n",
       "      <td>2012-01-05</td>\n",
       "      <td>22.2090</td>\n",
       "      <td>22.489</td>\n",
       "      <td>22.1300</td>\n",
       "      <td>22.446</td>\n",
       "      <td>2012</td>\n",
       "      <td>1</td>\n",
       "      <td>5</td>\n",
       "    </tr>\n",
       "    <tr>\n",
       "      <th>2454</th>\n",
       "      <td>2012-01-04</td>\n",
       "      <td>21.7500</td>\n",
       "      <td>22.276</td>\n",
       "      <td>21.7160</td>\n",
       "      <td>22.216</td>\n",
       "      <td>2012</td>\n",
       "      <td>1</td>\n",
       "      <td>4</td>\n",
       "    </tr>\n",
       "    <tr>\n",
       "      <th>2455</th>\n",
       "      <td>2012-01-03</td>\n",
       "      <td>21.4720</td>\n",
       "      <td>21.860</td>\n",
       "      <td>21.4020</td>\n",
       "      <td>21.699</td>\n",
       "      <td>2012</td>\n",
       "      <td>1</td>\n",
       "      <td>3</td>\n",
       "    </tr>\n",
       "  </tbody>\n",
       "</table>\n",
       "<p>2456 rows × 8 columns</p>\n",
       "</div>"
      ],
      "text/plain": [
       "           Date      Open     High       Low    Close  Year  Month  Day\n",
       "0    2021-10-05  284.0464  290.398  284.0464  288.760  2021     10    5\n",
       "1    2021-10-04  287.4000  287.750  280.2500  283.110  2021     10    4\n",
       "2    2021-10-01  282.1217  289.980  281.2900  289.100  2021     10    1\n",
       "3    2021-09-30  285.7100  287.830  281.6200  281.920  2021      9   30\n",
       "4    2021-09-29  285.1000  286.770  283.0100  284.000  2021      9   29\n",
       "...         ...       ...      ...       ...      ...   ...    ...  ...\n",
       "2451 2012-01-09   22.7440   22.786   22.4790   22.496  2012      1    9\n",
       "2452 2012-01-06   22.3530   22.858   22.3200   22.786  2012      1    6\n",
       "2453 2012-01-05   22.2090   22.489   22.1300   22.446  2012      1    5\n",
       "2454 2012-01-04   21.7500   22.276   21.7160   22.216  2012      1    4\n",
       "2455 2012-01-03   21.4720   21.860   21.4020   21.699  2012      1    3\n",
       "\n",
       "[2456 rows x 8 columns]"
      ]
     },
     "execution_count": 27,
     "metadata": {},
     "output_type": "execute_result"
    }
   ],
   "source": [
    "df"
   ]
  },
  {
   "cell_type": "code",
   "execution_count": 28,
   "metadata": {
    "id": "wyQtDM1hHmXz",
    "outputId": "95241a41-521d-493a-9ac1-ad4fbff897c3"
   },
   "outputs": [
    {
     "data": {
      "image/png": "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\n",
      "text/plain": [
       "<Figure size 1600x800 with 1 Axes>"
      ]
     },
     "metadata": {},
     "output_type": "display_data"
    }
   ],
   "source": [,
    "fig, ax = plt.subplots(figsize=(16,8))\n",
    "seaborn.lineplot(x = df['Date'], y = df['Close'], ax=ax, data=df, color='green')\n",
    "seaborn.set_style('darkgrid')\n",
    "ax.set_xlabel('Date')\n",
    "ax.set_ylabel('Y')\n",
    "plt.show()"
   ]
  },
  {
   "cell_type": "markdown",
   "metadata": {
    "id": "bJrAQGL-HmXz"
   },
   "source": [
    "> Next, you should decompose `Date` to `Year`, `Month`, and `Day`."
   ]
  },
  {
   "cell_type": "code",
   "execution_count": 29,
   "metadata": {
    "id": "ZRgHKMluHmXz"
   },
   "outputs": [],
   "source": [
    "df['Year'] = df['Date'].dt.year\n",
    "df['Month'] = df['Date'].dt.month\n",
    "df['Day'] = df['Date'].dt.day"
   ]
  },
  {
   "cell_type": "markdown",
   "metadata": {
    "id": "lZvhFx68HmX0"
   },
   "source": [
    "> Now create a new dataframe `msft` by choosing the following columns from `df` in the same order as below:"
   ]
  },
  {
   "cell_type": "code",
   "execution_count": 30,
   "metadata": {
    "id": "GRnxWGdAHmX0",
    "outputId": "18794c6c-c9e0-443d-ff70-f7289b2dde79"
   },
   "outputs": [
    {
     "data": {
      "text/html": [
       "<div>\n",
       "<style scoped>\n",
       "    .dataframe tbody tr th:only-of-type {\n",
       "        vertical-align: middle;\n",
       "    }\n",
       "\n",
       "    .dataframe tbody tr th {\n",
       "        vertical-align: top;\n",
       "    }\n",
       "\n",
       "    .dataframe thead th {\n",
       "        text-align: right;\n",
       "    }\n",
       "</style>\n",
       "<table border=\"1\" class=\"dataframe\">\n",
       "  <thead>\n",
       "    <tr style=\"text-align: right;\">\n",
       "      <th></th>\n",
       "      <th>Day</th>\n",
       "      <th>Month</th>\n",
       "      <th>Year</th>\n",
       "      <th>High</th>\n",
       "      <th>Open</th>\n",
       "      <th>Low</th>\n",
       "      <th>Close</th>\n",
       "    </tr>\n",
       "  </thead>\n",
       "  <tbody>\n",
       "    <tr>\n",
       "      <th>2446</th>\n",
       "      <td>17</td>\n",
       "      <td>1</td>\n",
       "      <td>2012</td>\n",
       "      <td>23.230</td>\n",
       "      <td>23.027</td>\n",
       "      <td>22.846</td>\n",
       "      <td>22.914</td>\n",
       "    </tr>\n",
       "    <tr>\n",
       "      <th>2447</th>\n",
       "      <td>13</td>\n",
       "      <td>1</td>\n",
       "      <td>2012</td>\n",
       "      <td>22.911</td>\n",
       "      <td>22.651</td>\n",
       "      <td>22.537</td>\n",
       "      <td>22.911</td>\n",
       "    </tr>\n",
       "    <tr>\n",
       "      <th>2448</th>\n",
       "      <td>12</td>\n",
       "      <td>1</td>\n",
       "      <td>2012</td>\n",
       "      <td>22.723</td>\n",
       "      <td>22.576</td>\n",
       "      <td>22.422</td>\n",
       "      <td>22.705</td>\n",
       "    </tr>\n",
       "    <tr>\n",
       "      <th>2449</th>\n",
       "      <td>11</td>\n",
       "      <td>1</td>\n",
       "      <td>2012</td>\n",
       "      <td>22.690</td>\n",
       "      <td>22.243</td>\n",
       "      <td>22.194</td>\n",
       "      <td>22.480</td>\n",
       "    </tr>\n",
       "    <tr>\n",
       "      <th>2450</th>\n",
       "      <td>10</td>\n",
       "      <td>1</td>\n",
       "      <td>2012</td>\n",
       "      <td>22.824</td>\n",
       "      <td>22.626</td>\n",
       "      <td>22.504</td>\n",
       "      <td>22.574</td>\n",
       "    </tr>\n",
       "    <tr>\n",
       "      <th>2451</th>\n",
       "      <td>9</td>\n",
       "      <td>1</td>\n",
       "      <td>2012</td>\n",
       "      <td>22.786</td>\n",
       "      <td>22.744</td>\n",
       "      <td>22.479</td>\n",
       "      <td>22.496</td>\n",
       "    </tr>\n",
       "    <tr>\n",
       "      <th>2452</th>\n",
       "      <td>6</td>\n",
       "      <td>1</td>\n",
       "      <td>2012</td>\n",
       "      <td>22.858</td>\n",
       "      <td>22.353</td>\n",
       "      <td>22.320</td>\n",
       "      <td>22.786</td>\n",
       "    </tr>\n",
       "    <tr>\n",
       "      <th>2453</th>\n",
       "      <td>5</td>\n",
       "      <td>1</td>\n",
       "      <td>2012</td>\n",
       "      <td>22.489</td>\n",
       "      <td>22.209</td>\n",
       "      <td>22.130</td>\n",
       "      <td>22.446</td>\n",
       "    </tr>\n",
       "    <tr>\n",
       "      <th>2454</th>\n",
       "      <td>4</td>\n",
       "      <td>1</td>\n",
       "      <td>2012</td>\n",
       "      <td>22.276</td>\n",
       "      <td>21.750</td>\n",
       "      <td>21.716</td>\n",
       "      <td>22.216</td>\n",
       "    </tr>\n",
       "    <tr>\n",
       "      <th>2455</th>\n",
       "      <td>3</td>\n",
       "      <td>1</td>\n",
       "      <td>2012</td>\n",
       "      <td>21.860</td>\n",
       "      <td>21.472</td>\n",
       "      <td>21.402</td>\n",
       "      <td>21.699</td>\n",
       "    </tr>\n",
       "  </tbody>\n",
       "</table>\n",
       "</div>"
      ],
      "text/plain": [
       "      Day  Month  Year    High    Open     Low   Close\n",
       "2446   17      1  2012  23.230  23.027  22.846  22.914\n",
       "2447   13      1  2012  22.911  22.651  22.537  22.911\n",
       "2448   12      1  2012  22.723  22.576  22.422  22.705\n",
       "2449   11      1  2012  22.690  22.243  22.194  22.480\n",
       "2450   10      1  2012  22.824  22.626  22.504  22.574\n",
       "2451    9      1  2012  22.786  22.744  22.479  22.496\n",
       "2452    6      1  2012  22.858  22.353  22.320  22.786\n",
       "2453    5      1  2012  22.489  22.209  22.130  22.446\n",
       "2454    4      1  2012  22.276  21.750  21.716  22.216\n",
       "2455    3      1  2012  21.860  21.472  21.402  21.699"
      ]
     },
     "execution_count": 30,
     "metadata": {},
     "output_type": "execute_result"
    }
   ],
   "source": [
    "msft = df[['Day', 'Month', 'Year', 'High', 'Open', 'Low', 'Close']]\n",
    "msft.tail(10)"
   ]
  },
  {
   "cell_type": "markdown",
   "metadata": {
    "id": "KQ9SmB-QHmX0"
   },
   "source": [
    "> Next separate the independent variables (features) from the dependent variable (target column) which is `Close`. So your `X` should contain all columns in `msft` except `Close` and `y` should include `Close` only."
   ]
  },
  {
   "cell_type": "code",
   "execution_count": 31,
   "metadata": {
    "id": "e7zxFDVRHmX0"
   },
   "outputs": [],
   "source": [
    "# Separate features from the target\n",
    "X = msft.loc[:, msft.columns != 'Close']\n",
    "y = msft['Close']"
   ]
  },
  {
   "cell_type": "code",
   "execution_count": 24,
   "metadata": {
    "id": "_6uZ3rByHmX0",
    "outputId": "209b6871-6735-488a-fd9a-2f4a506020a0"
   },
   "outputs": [
    {
     "name": "stdout",
     "output_type": "stream",
     "text": [
      "(2456, 6)\n",
      "(2456,)\n"
     ]
    }
   ],
   "source": [
    "print(X.shape)\n",
    "print(y.shape)"
   ]
  },
  {
   "cell_type": "code",
   "execution_count": 20,
   "metadata": {
    "id": "aeKpPMYeHmX1",
    "outputId": "bfefbf12-5a25-44bb-ee12-7ed820b39eac"
   },
   "outputs": [
    {
     "data": {
      "text/html": [
       "<div>\n",
       "<style scoped>\n",
       "    .dataframe tbody tr th:only-of-type {\n",
       "        vertical-align: middle;\n",
       "    }\n",
       "\n",
       "    .dataframe tbody tr th {\n",
       "        vertical-align: top;\n",
       "    }\n",
       "\n",
       "    .dataframe thead th {\n",
       "        text-align: right;\n",
       "    }\n",
       "</style>\n",
       "<table border=\"1\" class=\"dataframe\">\n",
       "  <thead>\n",
       "    <tr style=\"text-align: right;\">\n",
       "      <th></th>\n",
       "      <th>Day</th>\n",
       "      <th>Month</th>\n",
       "      <th>Year</th>\n",
       "      <th>High</th>\n",
       "      <th>Open</th>\n",
       "      <th>Low</th>\n",
       "    </tr>\n",
       "  </thead>\n",
       "  <tbody>\n",
       "    <tr>\n",
       "      <th>0</th>\n",
       "      <td>5</td>\n",
       "      <td>10</td>\n",
       "      <td>2021</td>\n",
       "      <td>290.398</td>\n",
       "      <td>284.0464</td>\n",
       "      <td>284.0464</td>\n",
       "    </tr>\n",
       "    <tr>\n",
       "      <th>1</th>\n",
       "      <td>4</td>\n",
       "      <td>10</td>\n",
       "      <td>2021</td>\n",
       "      <td>287.750</td>\n",
       "      <td>287.4000</td>\n",
       "      <td>280.2500</td>\n",
       "    </tr>\n",
       "    <tr>\n",
       "      <th>2</th>\n",
       "      <td>1</td>\n",
       "      <td>10</td>\n",
       "      <td>2021</td>\n",
       "      <td>289.980</td>\n",
       "      <td>282.1217</td>\n",
       "      <td>281.2900</td>\n",
       "    </tr>\n",
       "    <tr>\n",
       "      <th>3</th>\n",
       "      <td>30</td>\n",
       "      <td>9</td>\n",
       "      <td>2021</td>\n",
       "      <td>287.830</td>\n",
       "      <td>285.7100</td>\n",
       "      <td>281.6200</td>\n",
       "    </tr>\n",
       "    <tr>\n",
       "      <th>4</th>\n",
       "      <td>29</td>\n",
       "      <td>9</td>\n",
       "      <td>2021</td>\n",
       "      <td>286.770</td>\n",
       "      <td>285.1000</td>\n",
       "      <td>283.0100</td>\n",
       "    </tr>\n",
       "    <tr>\n",
       "      <th>...</th>\n",
       "      <td>...</td>\n",
       "      <td>...</td>\n",
       "      <td>...</td>\n",
       "      <td>...</td>\n",
       "      <td>...</td>\n",
       "      <td>...</td>\n",
       "    </tr>\n",
       "    <tr>\n",
       "      <th>2451</th>\n",
       "      <td>9</td>\n",
       "      <td>1</td>\n",
       "      <td>2012</td>\n",
       "      <td>22.786</td>\n",
       "      <td>22.7440</td>\n",
       "      <td>22.4790</td>\n",
       "    </tr>\n",
       "    <tr>\n",
       "      <th>2452</th>\n",
       "      <td>6</td>\n",
       "      <td>1</td>\n",
       "      <td>2012</td>\n",
       "      <td>22.858</td>\n",
       "      <td>22.3530</td>\n",
       "      <td>22.3200</td>\n",
       "    </tr>\n",
       "    <tr>\n",
       "      <th>2453</th>\n",
       "      <td>5</td>\n",
       "      <td>1</td>\n",
       "      <td>2012</td>\n",
       "      <td>22.489</td>\n",
       "      <td>22.2090</td>\n",
       "      <td>22.1300</td>\n",
       "    </tr>\n",
       "    <tr>\n",
       "      <th>2454</th>\n",
       "      <td>4</td>\n",
       "      <td>1</td>\n",
       "      <td>2012</td>\n",
       "      <td>22.276</td>\n",
       "      <td>21.7500</td>\n",
       "      <td>21.7160</td>\n",
       "    </tr>\n",
       "    <tr>\n",
       "      <th>2455</th>\n",
       "      <td>3</td>\n",
       "      <td>1</td>\n",
       "      <td>2012</td>\n",
       "      <td>21.860</td>\n",
       "      <td>21.4720</td>\n",
       "      <td>21.4020</td>\n",
       "    </tr>\n",
       "  </tbody>\n",
       "</table>\n",
       "<p>2456 rows × 6 columns</p>\n",
       "</div>"
      ],
      "text/plain": [
       "      Day  Month  Year     High      Open       Low\n",
       "0       5     10  2021  290.398  284.0464  284.0464\n",
       "1       4     10  2021  287.750  287.4000  280.2500\n",
       "2       1     10  2021  289.980  282.1217  281.2900\n",
       "3      30      9  2021  287.830  285.7100  281.6200\n",
       "4      29      9  2021  286.770  285.1000  283.0100\n",
       "...   ...    ...   ...      ...       ...       ...\n",
       "2451    9      1  2012   22.786   22.7440   22.4790\n",
       "2452    6      1  2012   22.858   22.3530   22.3200\n",
       "2453    5      1  2012   22.489   22.2090   22.1300\n",
       "2454    4      1  2012   22.276   21.7500   21.7160\n",
       "2455    3      1  2012   21.860   21.4720   21.4020\n",
       "\n",
       "[2456 rows x 6 columns]"
      ]
     },
     "execution_count": 20,
     "metadata": {},
     "output_type": "execute_result"
    }
   ],
   "source": [
    "X"
   ]
  },
  {
   "cell_type": "code",
   "execution_count": 21,
   "metadata": {
    "id": "VHQtRXFgHmX2",
    "outputId": "bc0a0ff5-d904-4d02-e92f-17a096b47810"
   },
   "outputs": [
    {
     "data": {
      "text/plain": [
       "0       288.760\n",
       "1       283.110\n",
       "2       289.100\n",
       "3       281.920\n",
       "4       284.000\n",
       "         ...   \n",
       "2451     22.496\n",
       "2452     22.786\n",
       "2453     22.446\n",
       "2454     22.216\n",
       "2455     21.699\n",
       "Name: Close, Length: 2456, dtype: float64"
      ]
     },
     "execution_count": 21,
     "metadata": {},
     "output_type": "execute_result"
    }
   ],
   "source": [
    "y"
   ]
  },
  {
   "cell_type": "code",
   "execution_count": 61,
   "metadata": {
    "id": "J3ex-WCNHmX2"
   },
   "outputs": [],
   "source": [
    "# Partition the data into train and test with a split ratio of 75/25 for train/test\n",
    "X_train, X_test, y_train, y_test = train_test_split(X, y, test_size=0.25,random_state=42)"
   ]
  },
  {
   "cell_type": "code",
   "execution_count": 62,
   "metadata": {
    "id": "ylfryslYHmX3",
    "outputId": "fa20034d-4eaf-4273-e294-a23cf0316b50"
   },
   "outputs": [
    {
     "name": "stdout",
     "output_type": "stream",
     "text": [
      "(1842, 6)\n",
      "(614, 6)\n",
      "(1842,)\n",
      "(614,)\n"
     ]
    }
   ],
   "source": [
    "print(X_train.shape)\n",
    "print(X_test.shape)\n",
    "print(y_train.shape)\n",
    "print(y_test.shape)"
   ]
  },
  {
   "cell_type": "markdown",
   "metadata": {
    "id": "-qXTHpkJHmX3"
   },
   "source": [
    "## Part-II Linear Regression with Closed Form Solution (Least Squares)"
   ]
  },
  {
   "cell_type": "code",
   "execution_count": 63,
   "metadata": {
    "id": "9e1sburEHmX3"
   },
   "outputs": [],
   "source": [
    "X_train = np.array(X_train)\n",
    "y_train = np.array(y_train)\n",
    "theta_best = (np.linalg.inv(X_train.transpose().dot(X_train)).dot(X_train.transpose().dot(y_train)))  "
   ]
  },
  {
   "cell_type": "code",
   "execution_count": 64,
   "metadata": {
    "id": "kWjsEYeBHmX4",
    "outputId": "bb72ce19-de7a-41d4-80aa-5a8f4e614f46"
   },
   "outputs": [
    {
     "data": {
      "text/plain": [
       "(6,)"
      ]
     },
     "execution_count": 64,
     "metadata": {},
     "output_type": "execute_result"
    }
   ],
   "source": [
    "theta_best.shape"
   ]
  },
  {
   "cell_type": "code",
   "execution_count": 65,
   "metadata": {
    "id": "qEygcgTLHmX4"
   },
   "outputs": [],
   "source": [
    "# Make predictions on X_test using theta_best\n",
    "y_pred_ls = X_test.dot(theta_best)"
   ]
  },
  {
   "cell_type": "markdown",
   "metadata": {
    "id": "jtQufNPCHmX4"
   },
   "source": [
    "#### Regression Model Evaluation: MSE, RMSE, MAE"
   ]
  },
  {
   "cell_type": "markdown",
   "metadata": {
    "id": "lRTRZpQAHmX4"
   },
   "source": [
    "Regression performance measures are MSE, RMSE, and MAE:\n",
    "\n",
    "$\n",
    "\\text{MSE}(\\mathbf{X}, h_{\\boldsymbol{\\theta}}) = \\dfrac{1}{m} \\sum\\limits_{i=1}^{m}{(\\boldsymbol{\\theta}^T \\mathbf{x}^{(i)} - y^{(i)})^2}\n",
    "$\n",
    "\n",
    "\n",
    "$\n",
    "\\text{RMSE}(\\mathbf{X}, h_{\\boldsymbol{\\theta}}) = \\sqrt{\\dfrac{1}{m} \\sum\\limits_{i=1}^{m}{(\\boldsymbol{\\theta}^T \\mathbf{x}^{(i)} - y^{(i)})^2}}\n",
    "$\n",
    "\n",
    "$\n",
    "\\text{MAE}(\\mathbf{X}, h_{\\boldsymbol{\\theta}}) = \\frac{1}{m}\\sum\\limits_{i=1}^{m}\\left| \\boldsymbol{\\theta}^T \\mathbf{x}^{(i)} - y^{(i)} \\right|\n",
    "$\n"
   ]
  },
  {
   "cell_type": "code",
   "execution_count": 66,
   "metadata": {
    "id": "KQSlDV6OHmX5"
   },
   "outputs": [],
   "source": [
    "def mse(y_true, y_pred):\n",
    "    return np.square(np.subtract( y_true, y_pred)).mean()"
   ]
  },
  {
   "cell_type": "code",
   "execution_count": 67,
   "metadata": {
    "id": "0BNadXUHHmX5"
   },
   "outputs": [],
   "source": [
    "def rmse(y_true, y_pred):\n",
    "    return np.sqrt(np.square(np.subtract(y_true, y_pred))).mean()"
   ]
  },
  {
   "cell_type": "code",
   "execution_count": 68,
   "metadata": {
    "id": "8TcZ-yHLHmX5"
   },
   "outputs": [],
   "source": [
    "def mae(y_true, y_pred):\n",
    "    return np.mean(np.abs(np.subtract(y_true, y_pred)))       "
   ]
  },
  {
   "cell_type": "markdown",
   "metadata": {
    "id": "oslpdeKrHmX5"
   },
   "source": [
    "> Now compute the `mse`, `rmse`, and `mae` for the Least Squares regression model. They all should be small numbers less than 1. "
   ]
  },
  {
   "cell_type": "code",
   "execution_count": 69,
   "metadata": {
    "id": "Kf_7NrjkHmX5",
    "outputId": "09fd0ae3-44f0-41c4-f709-537fb9f821cd"
   },
   "outputs": [
    {
     "name": "stdout",
     "output_type": "stream",
     "text": [
      "LS MSE 0.3927707951194423\n",
      "LS RMSE 0.34715940208779444\n",
      "LS MAE 0.34715940208779444\n"
     ]
    }
   ],
   "source": [
    "mse_ls = mse(np.array(y_test), np.array(y_pred_ls))\n",
    "rmse_ls = rmse(np.array(y_test), np.array(y_pred_ls))\n",
    "mae_ls = mae(np.array(y_test), np.array(y_pred_ls))\n",
    "print('LS MSE', mse_ls)\n",
    "print('LS RMSE', rmse_ls)\n",
    "print('LS MAE', mae_ls)"
   ]
  },
  {
   "cell_type": "code",
   "execution_count": 70,
   "metadata": {
    "id": "IO8zvjrbHmX5",
    "outputId": "2a4433b4-2451-490a-ebdf-6c1ebfb09f6b"
   },
   "outputs": [
    {
     "name": "stdout",
     "output_type": "stream",
     "text": [
      "0.3471594020877944442027285\n"
     ]
    }
   ],
   "source": [
    "print(\"{:.25f}\".format(mae_ls))"
   ]
  },
  {
   "cell_type": "code",
   "execution_count": 71,
   "metadata": {
    "id": "NAUqIuAbHmX5"
   },
   "outputs": [],
   "source": [
    "# Compute mae and mse of LS model by sklearn methods\n",
    "sklearn_mae_ls = mean_absolute_error(y_test, y_pred_ls)\n",
    "sklearn_mse_ls = mean_squared_error(y_test, y_pred_ls)"
   ]
  },
  {
   "cell_type": "code",
   "execution_count": 72,
   "metadata": {
    "id": "2z-FMKGsHmX5",
    "outputId": "cde95413-e9f7-4f21-d259-f37a92b3501c"
   },
   "outputs": [
    {
     "name": "stdout",
     "output_type": "stream",
     "text": [
      "MAE is correct!\n",
      "MSE is correct!\n"
     ]
    }
   ],
   "source": [
    "# Scores computed by your functions should be equal to the scores computed by sklearn methods\n",
    "if sklearn_mae_ls == mae_ls:\n",
    "    print('MAE is correct!')\n",
    "else:\n",
    "    print('MAE is wrong!')\n",
    "    \n",
    "if sklearn_mse_ls == mse_ls:\n",
    "    print('MSE is correct!')\n",
    "else:\n",
    "    print('MSE is wrong!')  "
   ]
  },
  {
   "cell_type": "code",
   "execution_count": 34,
   "metadata": {
    "id": "gHgfWQdTHmX5",
    "outputId": "9cff7a6c-ef1e-4183-9afa-649c593833b8"
   },
   "outputs": [
    {
     "data": {
      "image/png": "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\n",
      "text/plain": [
       "<Figure size 1600x800 with 1 Axes>"
      ]
     },
     "metadata": {},
     "output_type": "display_data"
    }
   ],
   "source": [
    "fig, ax = plt.subplots(figsize=(16,8))\n",
    "ax.set_xlabel('Date [2012 -2021]',fontsize=20)\n",
    "ax.set_ylabel('MSFT Close Prediction', fontsize= 20)\n",
    "ax.set_title('MSFT Close Price - Actual Vs Prediction of LS Model', fontsize=20)\n",
    "ax.set_xticklabels([])\n",
    "ax.set_xticks([])\n",
    "ax.tick_params(axis='y',labelsize=13)\n",
    "\n",
    "seaborn.scatterplot(x = df['Date'], y= y_test, color='blue', label='Actual')\n",
    "seaborn.scatterplot(x = df['Date'], y= y_pred_ls, color = 'red', label='Prediction',s=9)\n",
    "seaborn.set_style('darkgrid')\n",
    "ax.legend(fontsize=13)\n",
    "plt.show()"
   ]
  },
  {
   "cell_type": "markdown",
   "metadata": {
    "id": "URa-hilAHmX6"
   },
   "source": [
    "## Part-III  Scikit-learn Linear Regression, SVR and XGBoost"
   ]
  },
  {
   "cell_type": "markdown",
   "metadata": {
    "id": "5Q1KxYmVHmX6"
   },
   "source": [
    "In Part-III, we are going to use [Linear Regression](https://scikit-learn.org/stable/modules/generated/sklearn.linear_model.LinearRegression.html), [SVR](https://scikit-learn.org/stable/modules/generated/sklearn.svm.SVR.html) and [XGBoost](https://xgboost.readthedocs.io/en/latest/python/python_api.html#module-xgboost.sklearn) to build regression models."
   ]
  },
  {
   "cell_type": "code",
   "execution_count": 38,
   "metadata": {
    "id": "V5VJCQPbHmX6",
    "outputId": "0cb8e0e8-7b49-4cf6-bb7a-b967521df842"
   },
   "outputs": [
    {
     "data": {
      "text/plain": [
       "LinearRegression()"
      ]
     },
     "execution_count": 38,
     "metadata": {},
     "output_type": "execute_result"
    }
   ],
   "source": [
    "# Build a LinearRegression model and train it on (X_train, y_train)\n",
    "lin_reg = LinearRegression()\n",
    "lin_reg.fit(X_train, y_train)"
   ]
  },
  {
   "cell_type": "code",
   "execution_count": 39,
   "metadata": {
    "id": "5YCswGPqHmX6"
   },
   "outputs": [],
   "source": [
    "# Test lin_reg on X_test\n",
    "y_pred_lin_reg = lin_reg.predict(X_test)"
   ]
  },
  {
   "cell_type": "code",
   "execution_count": 44,
   "metadata": {
    "id": "cQdS8gASHmX6",
    "outputId": "0b0e8b75-c77f-4201-91aa-d1cc8b287e9b"
   },
   "outputs": [
    {
     "name": "stdout",
     "output_type": "stream",
     "text": [
      "Linear Regression RMSE 0.3474084617145704\n"
     ]
    }
   ],
   "source": [
    "# Compute rmse for lin_reg using your own rmse function\n",
    "rmse_lin_reg = rmse(y_test, y_pred_lin_reg)\n",
    "print('Linear Regression RMSE', rmse_lin_reg)"
   ]
  },
  {
   "cell_type": "code",
   "execution_count": 50,
   "metadata": {
    "id": "aIJqVUUsHmX6",
    "outputId": "6417424e-1ac7-480d-a285-63995c59e6a4"
   },
   "outputs": [
    {
     "data": {
      "image/png": "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\n",
      "text/plain": [
       "<Figure size 900x500 with 1 Axes>"
      ]
     },
     "metadata": {},
     "output_type": "display_data"
    }
   ],
   "source": [
    "# Plot Q3 [5 points]\n",
    "\n",
    "fig, ax = plt.subplots(figsize=(9,5))\n",
    "seaborn.scatterplot(x=y_pred_lin_reg, y=y_test, color='blue')\n",
    "ax.set_xlabel('Prediction', fontsize=12)\n",
    "ax.set_ylabel('Actual', fontsize=12)\n",
    "ax.set_title('Plot Q3', fontsize=12)\n",
    "plt.show()"
   ]
  },
  {
   "cell_type": "markdown",
   "metadata": {
    "id": "l2tQoC57HmX6"
   },
   "source": [
    "> Next build a SVM regression model (SVR). Remember that SVM can be used for both classification and regression."
   ]
  },
  {
   "cell_type": "code",
   "execution_count": 51,
   "metadata": {
    "id": "yuefCwAFHmX6",
    "outputId": "e143979a-84dd-44e5-f770-c25284d2379e"
   },
   "outputs": [
    {
     "data": {
      "text/plain": [
       "Pipeline(steps=[('standardscaler', StandardScaler()),\n",
       "                ('svr', SVR(epsilon=0.2, kernel='linear'))])"
      ]
     },
     "execution_count": 51,
     "metadata": {},
     "output_type": "execute_result"
    }
   ],
   "source": [
    "# Build a SVR (SVM Regression) model and train it on (X_train, y_train), kernel should be 'linear'\n",
    "svr = make_pipeline(StandardScaler(), SVR(C=1.0, epsilon=0.2, kernel='linear'))\n",
    "svr.fit(X_train, y_train)"
   ]
  },
  {
   "cell_type": "code",
   "execution_count": 52,
   "metadata": {
    "id": "aOHmk59nHmX6"
   },
   "outputs": [],
   "source": [
    "# Test svr\n",
    "y_pred_svr = svr.predict(X_test)"
   ]
  },
  {
   "cell_type": "code",
   "execution_count": 41,
   "metadata": {
    "id": "H8wIzVNSHmX6",
    "outputId": "b830fefb-e25b-45da-b607-b9bba6075f79"
   },
   "outputs": [
    {
     "name": "stdout",
     "output_type": "stream",
     "text": [
      "SVR RMSE 0.5534921465505183\n"
     ]
    }
   ],
   "source": [
    "# Compute rmse for svr\n",
    "rmse_svr = rmse(y_test, y_pred_svr)\n",
    "print('SVR RMSE', rmse_svr)"
   ]
  },
  {
   "cell_type": "code",
   "execution_count": 54,
   "metadata": {
    "id": "xtP_ke5dHmX7"
   },
   "outputs": [
    {
     "data": {
      "text/plain": [
       "XGBRegressor(base_score=0.5, booster='gbtree', colsample_bylevel=1,\n",
       "             colsample_bynode=1, colsample_bytree=1, enable_categorical=False,\n",
       "             gamma=0, gpu_id=-1, importance_type=None,\n",
       "             interaction_constraints='', learning_rate=0.300000012,\n",
       "             max_delta_step=0, max_depth=6, min_child_weight=1, missing=nan,\n",
       "             monotone_constraints='()', n_estimators=100, n_jobs=8,\n",
       "             num_parallel_tree=1, predictor='auto', random_state=0, reg_alpha=0,\n",
       "             reg_lambda=1, scale_pos_weight=1, subsample=1, tree_method='exact',\n",
       "             validate_parameters=1, verbosity=None)"
      ]
     },
     "execution_count": 54,
     "metadata": {},
     "output_type": "execute_result"
    }
   ],
   "source": [
    "# Build a xgb regression model and train it on (X_train, y_train)\n",
    "xgb_reg = XGBRegressor(objective='reg:squarederror') \n",
    "XGBRegressor(base_score=0.5, booster='gbtree', colsample_bylevel=1,colsample_bynode=1,colsample_bytree=1,gamma=0,gpu_id=-1,\n",
    "                       importance_type='gain', interaction_constraints='', learning_rate=0.1, max_delta_step=0, max_depth=6,\n",
    "                       min_child_weight=1, missing='nan', monotone_constraints='()',n_estimators=100, n_jobs=12, num_parallel_tree=1, random_state=0, reg_alpha=0,\n",
    "                       reg_lamba=1, scale_pos_weight=1, subsample=1, tree_method='exact', validate_parameters=1, verbosity=None)  \n",
    "xgb_reg.fit(X_train, y_train)"
   ]
  },
  {
   "cell_type": "code",
   "execution_count": 55,
   "metadata": {
    "id": "vXnq8QjiHmX7"
   },
   "outputs": [],
   "source": [
    "# Test xgb_reg\n",
    "y_pred_xgb = xgb_reg.predict(X_test)"
   ]
  },
  {
   "cell_type": "code",
   "execution_count": 56,
   "metadata": {
    "id": "ldrXD5xxHmX7",
    "outputId": "cdd0b52a-533c-4593-b268-ae72d66e5394"
   },
   "outputs": [
    {
     "name": "stdout",
     "output_type": "stream",
     "text": [
      "XGB RMSE 0.649543330537379\n"
     ]
    }
   ],
   "source": [
    "# Compute rmse for xgb_reg\n",
    "rmse_xgb = rmse(y_test,y_pred_xgb)\n",
    "print('XGB RMSE', rmse_xgb)"
   ]
  },
  {
   "cell_type": "code",
   "execution_count": 57,
   "metadata": {
    "id": "IHLmafuIHmX7"
   },
   "outputs": [
    {
     "name": "stdout",
     "output_type": "stream",
     "text": [
      "Randomized search for hyperparameter tuning of SVR Regressor\n",
      "Best Parameters: {'tol': 0.1, 'shrinking': False, 'kernel': 'linear', 'epsilon': 1, 'C': 1.0}\n"
     ]
    }
   ],
   "source": [
    "\n",
    "\n",
    "dic = {\n",
    "        'kernel':['linear'], 'tol':[1,0.1],'C':[1.0,1.2], \n",
    "       'epsilon':[0.1,1], 'shrinking':[True,False]\n",
    "      }\n",
    "\n",
    "svr_reg = SVR(kernel='linear',C=1.0, epsilon=0.1, tol=1e-3, shrinking=True)\n",
    "\n",
    "randomized_search = RandomizedSearchCV(svr_reg, dic)\n",
    "\n",
    "best_svr = randomized_search.fit(X_train, y_train)\n",
    "\n",
    "print('Randomized search for hyperparameter tuning of SVR Regressor')\n",
    "print('Best Parameters: ' + str(best_svr.best_params_))"
   ]
  },
  {
   "cell_type": "code",
   "execution_count": 58,
   "metadata": {
    "id": "d_g2Ux-LHmX7",
    "outputId": "b2bc5534-f266-4c14-f714-5ba5b8745bb2"
   },
   "outputs": [
    {
     "name": "stdout",
     "output_type": "stream",
     "text": [
      "Best SVR RMSE 0.4650361853337531\n"
     ]
    }
   ],
   "source": [
    "# Train and test best_svr, and compute rmse with your rmse function that you implemented\n",
    "best_svr = best_svr.fit(X_train,y_train)\n",
    "y_pred_best_svr = best_svr.predict(X_test)\n",
    "rmse_best_svr = rmse(y_test,y_pred_best_svr)\n",
    "print('Best SVR RMSE', rmse_best_svr)"
   ]
  },
  {
   "cell_type": "code",
   "execution_count": 73,
   "metadata": {
    "id": "b0mV7c9pHmX7"
   },
   "outputs": [
    {
     "name": "stdout",
     "output_type": "stream",
     "text": [
      "Least Squares R2:  0.9999206469511898\n",
      "Linear Regression R2:  0.9999206898159027\n",
      "XGB R2:  0.9997648423807183\n",
      "Best SVR R2:  0.9998154113526363\n"
     ]
    }
   ],
   "source": [
    "r2_ls = r2_score(y_pred_ls, y_test)\n",
    "r2_lin_reg = r2_score(y_pred_lin_reg,y_test)\n",
    "r2_xgb = r2_score(y_pred_xgb, y_test)\n",
    "r2_best_svr = r2_score(y_pred_svr, y_test)\n",
    "print('Least Squares R2: ', r2_ls)\n",
    "print('Linear Regression R2: ', r2_lin_reg)\n",
    "print('XGB R2: ', r2_xgb)\n",
    "print('Best SVR R2: ', r2_best_svr)"
   ]
  }
 ],
 "metadata": {
  "colab": {
   "name": "ML-Assignment-2-F21.ipynb",
   "provenance": []
  },
  "kernelspec": {
   "display_name": "Python 3",
   "language": "python",
   "name": "python3"
  },
  "language_info": {
   "codemirror_mode": {
    "name": "ipython",
    "version": 3
   },
   "file_extension": ".py",
   "mimetype": "text/x-python",
   "name": "python",
   "nbconvert_exporter": "python",
   "pygments_lexer": "ipython3",
   "version": "3.9.7"
  }
 },
 "nbformat": 4,
 "nbformat_minor": 1
}
